{
  "nbformat": 4,
  "nbformat_minor": 0,
  "metadata": {
    "kernelspec": {
      "display_name": "Python 3",
      "language": "python",
      "name": "python3"
    },
    "language_info": {
      "codemirror_mode": {
        "name": "ipython",
        "version": 3
      },
      "file_extension": ".py",
      "mimetype": "text/x-python",
      "name": "python",
      "nbconvert_exporter": "python",
      "pygments_lexer": "ipython3",
      "version": "3.7.3"
    },
    "colab": {
      "name": "final_submission__.ipynb",
      "provenance": []
    }
  },
  "cells": [
    {
      "cell_type": "markdown",
      "metadata": {
        "id": "bbRV_HJ5dzdY",
        "colab_type": "text"
      },
      "source": [
        "# Predicting Whether A Customer Would Make The Premium Payment"
      ]
    },
    {
      "cell_type": "markdown",
      "metadata": {
        "id": "32QHC28BdzdZ",
        "colab_type": "text"
      },
      "source": [
        "Building a model to predict whether a customer would make the premium payment can be extremely helpful for the company because it can then accordingly plan its communication strategy to reach out to those customers who are less likely to pay and convince them to continue making timely payment."
      ]
    },
    {
      "cell_type": "markdown",
      "metadata": {
        "id": "yD0HTTBmdzda",
        "colab_type": "text"
      },
      "source": [
        "# Import Libraries"
      ]
    },
    {
      "cell_type": "code",
      "metadata": {
        "id": "_CLLfhX5dzdb",
        "colab_type": "code",
        "colab": {}
      },
      "source": [
        "import numpy as np\n",
        "import pandas as pd\n",
        "import matplotlib.pyplot as plt\n",
        "import seaborn as sn\n",
        "%matplotlib inline\n",
        "import warnings\n",
        "warnings.simplefilter(action='ignore')\n",
        "pd.set_option('display.max_columns', 150)"
      ],
      "execution_count": null,
      "outputs": []
    },
    {
      "cell_type": "markdown",
      "metadata": {
        "id": "9HhVtVw6dzdi",
        "colab_type": "text"
      },
      "source": [
        "# Load Data"
      ]
    },
    {
      "cell_type": "code",
      "metadata": {
        "id": "1HXcBnK3dzdj",
        "colab_type": "code",
        "colab": {}
      },
      "source": [
        "train = pd.read_csv('train_data.csv')\n",
        "test = pd.read_csv('test_data.csv')"
      ],
      "execution_count": null,
      "outputs": []
    },
    {
      "cell_type": "code",
      "metadata": {
        "id": "Qx9Um9HIdzdm",
        "colab_type": "code",
        "colab": {},
        "outputId": "ac8d3169-4109-4da1-868e-fa42f7a77250"
      },
      "source": [
        "train.head()"
      ],
      "execution_count": null,
      "outputs": [
        {
          "output_type": "execute_result",
          "data": {
            "text/html": [
              "<div>\n",
              "<style scoped>\n",
              "    .dataframe tbody tr th:only-of-type {\n",
              "        vertical-align: middle;\n",
              "    }\n",
              "\n",
              "    .dataframe tbody tr th {\n",
              "        vertical-align: top;\n",
              "    }\n",
              "\n",
              "    .dataframe thead th {\n",
              "        text-align: right;\n",
              "    }\n",
              "</style>\n",
              "<table border=\"1\" class=\"dataframe\">\n",
              "  <thead>\n",
              "    <tr style=\"text-align: right;\">\n",
              "      <th></th>\n",
              "      <th>id</th>\n",
              "      <th>perc_premium_paid_by_cash_credit</th>\n",
              "      <th>age_in_days</th>\n",
              "      <th>Income</th>\n",
              "      <th>Count_3-6_months_late</th>\n",
              "      <th>Count_6-12_months_late</th>\n",
              "      <th>Count_more_than_12_months_late</th>\n",
              "      <th>application_underwriting_score</th>\n",
              "      <th>no_of_premiums_paid</th>\n",
              "      <th>sourcing_channel</th>\n",
              "      <th>residence_area_type</th>\n",
              "      <th>target</th>\n",
              "    </tr>\n",
              "  </thead>\n",
              "  <tbody>\n",
              "    <tr>\n",
              "      <th>0</th>\n",
              "      <td>110936</td>\n",
              "      <td>0.429</td>\n",
              "      <td>12058</td>\n",
              "      <td>355060</td>\n",
              "      <td>0.0</td>\n",
              "      <td>0.0</td>\n",
              "      <td>0.0</td>\n",
              "      <td>99.02</td>\n",
              "      <td>13</td>\n",
              "      <td>C</td>\n",
              "      <td>Urban</td>\n",
              "      <td>1</td>\n",
              "    </tr>\n",
              "    <tr>\n",
              "      <th>1</th>\n",
              "      <td>41492</td>\n",
              "      <td>0.010</td>\n",
              "      <td>21546</td>\n",
              "      <td>315150</td>\n",
              "      <td>0.0</td>\n",
              "      <td>0.0</td>\n",
              "      <td>0.0</td>\n",
              "      <td>99.89</td>\n",
              "      <td>21</td>\n",
              "      <td>A</td>\n",
              "      <td>Urban</td>\n",
              "      <td>1</td>\n",
              "    </tr>\n",
              "    <tr>\n",
              "      <th>2</th>\n",
              "      <td>31300</td>\n",
              "      <td>0.917</td>\n",
              "      <td>17531</td>\n",
              "      <td>84140</td>\n",
              "      <td>2.0</td>\n",
              "      <td>3.0</td>\n",
              "      <td>1.0</td>\n",
              "      <td>98.69</td>\n",
              "      <td>7</td>\n",
              "      <td>C</td>\n",
              "      <td>Rural</td>\n",
              "      <td>0</td>\n",
              "    </tr>\n",
              "    <tr>\n",
              "      <th>3</th>\n",
              "      <td>19415</td>\n",
              "      <td>0.049</td>\n",
              "      <td>15341</td>\n",
              "      <td>250510</td>\n",
              "      <td>0.0</td>\n",
              "      <td>0.0</td>\n",
              "      <td>0.0</td>\n",
              "      <td>99.57</td>\n",
              "      <td>9</td>\n",
              "      <td>A</td>\n",
              "      <td>Urban</td>\n",
              "      <td>1</td>\n",
              "    </tr>\n",
              "    <tr>\n",
              "      <th>4</th>\n",
              "      <td>99379</td>\n",
              "      <td>0.052</td>\n",
              "      <td>31400</td>\n",
              "      <td>198680</td>\n",
              "      <td>0.0</td>\n",
              "      <td>0.0</td>\n",
              "      <td>0.0</td>\n",
              "      <td>99.87</td>\n",
              "      <td>12</td>\n",
              "      <td>B</td>\n",
              "      <td>Urban</td>\n",
              "      <td>1</td>\n",
              "    </tr>\n",
              "  </tbody>\n",
              "</table>\n",
              "</div>"
            ],
            "text/plain": [
              "       id  perc_premium_paid_by_cash_credit  age_in_days  Income  \\\n",
              "0  110936                             0.429        12058  355060   \n",
              "1   41492                             0.010        21546  315150   \n",
              "2   31300                             0.917        17531   84140   \n",
              "3   19415                             0.049        15341  250510   \n",
              "4   99379                             0.052        31400  198680   \n",
              "\n",
              "   Count_3-6_months_late  Count_6-12_months_late  \\\n",
              "0                    0.0                     0.0   \n",
              "1                    0.0                     0.0   \n",
              "2                    2.0                     3.0   \n",
              "3                    0.0                     0.0   \n",
              "4                    0.0                     0.0   \n",
              "\n",
              "   Count_more_than_12_months_late  application_underwriting_score  \\\n",
              "0                             0.0                           99.02   \n",
              "1                             0.0                           99.89   \n",
              "2                             1.0                           98.69   \n",
              "3                             0.0                           99.57   \n",
              "4                             0.0                           99.87   \n",
              "\n",
              "   no_of_premiums_paid sourcing_channel residence_area_type  target  \n",
              "0                   13                C               Urban       1  \n",
              "1                   21                A               Urban       1  \n",
              "2                    7                C               Rural       0  \n",
              "3                    9                A               Urban       1  \n",
              "4                   12                B               Urban       1  "
            ]
          },
          "metadata": {
            "tags": []
          },
          "execution_count": 3
        }
      ]
    },
    {
      "cell_type": "code",
      "metadata": {
        "id": "4ynmbWVYdzdq",
        "colab_type": "code",
        "colab": {},
        "outputId": "602ca4ec-d10c-451c-877e-3bc5e5651deb"
      },
      "source": [
        "test.head()"
      ],
      "execution_count": null,
      "outputs": [
        {
          "output_type": "execute_result",
          "data": {
            "text/html": [
              "<div>\n",
              "<style scoped>\n",
              "    .dataframe tbody tr th:only-of-type {\n",
              "        vertical-align: middle;\n",
              "    }\n",
              "\n",
              "    .dataframe tbody tr th {\n",
              "        vertical-align: top;\n",
              "    }\n",
              "\n",
              "    .dataframe thead th {\n",
              "        text-align: right;\n",
              "    }\n",
              "</style>\n",
              "<table border=\"1\" class=\"dataframe\">\n",
              "  <thead>\n",
              "    <tr style=\"text-align: right;\">\n",
              "      <th></th>\n",
              "      <th>id</th>\n",
              "      <th>perc_premium_paid_by_cash_credit</th>\n",
              "      <th>age_in_days</th>\n",
              "      <th>Income</th>\n",
              "      <th>Count_3-6_months_late</th>\n",
              "      <th>Count_6-12_months_late</th>\n",
              "      <th>Count_more_than_12_months_late</th>\n",
              "      <th>application_underwriting_score</th>\n",
              "      <th>no_of_premiums_paid</th>\n",
              "      <th>sourcing_channel</th>\n",
              "      <th>residence_area_type</th>\n",
              "    </tr>\n",
              "  </thead>\n",
              "  <tbody>\n",
              "    <tr>\n",
              "      <th>0</th>\n",
              "      <td>649</td>\n",
              "      <td>0.001</td>\n",
              "      <td>27384</td>\n",
              "      <td>51150</td>\n",
              "      <td>0.0</td>\n",
              "      <td>0.0</td>\n",
              "      <td>0.0</td>\n",
              "      <td>99.89</td>\n",
              "      <td>7</td>\n",
              "      <td>A</td>\n",
              "      <td>Rural</td>\n",
              "    </tr>\n",
              "    <tr>\n",
              "      <th>1</th>\n",
              "      <td>81136</td>\n",
              "      <td>0.124</td>\n",
              "      <td>23735</td>\n",
              "      <td>285140</td>\n",
              "      <td>0.0</td>\n",
              "      <td>0.0</td>\n",
              "      <td>0.0</td>\n",
              "      <td>98.93</td>\n",
              "      <td>19</td>\n",
              "      <td>A</td>\n",
              "      <td>Urban</td>\n",
              "    </tr>\n",
              "    <tr>\n",
              "      <th>2</th>\n",
              "      <td>70762</td>\n",
              "      <td>1.000</td>\n",
              "      <td>17170</td>\n",
              "      <td>186030</td>\n",
              "      <td>0.0</td>\n",
              "      <td>0.0</td>\n",
              "      <td>0.0</td>\n",
              "      <td>NaN</td>\n",
              "      <td>2</td>\n",
              "      <td>B</td>\n",
              "      <td>Urban</td>\n",
              "    </tr>\n",
              "    <tr>\n",
              "      <th>3</th>\n",
              "      <td>53935</td>\n",
              "      <td>0.198</td>\n",
              "      <td>16068</td>\n",
              "      <td>123540</td>\n",
              "      <td>0.0</td>\n",
              "      <td>0.0</td>\n",
              "      <td>0.0</td>\n",
              "      <td>99.00</td>\n",
              "      <td>11</td>\n",
              "      <td>B</td>\n",
              "      <td>Rural</td>\n",
              "    </tr>\n",
              "    <tr>\n",
              "      <th>4</th>\n",
              "      <td>15476</td>\n",
              "      <td>0.041</td>\n",
              "      <td>10591</td>\n",
              "      <td>200020</td>\n",
              "      <td>1.0</td>\n",
              "      <td>0.0</td>\n",
              "      <td>0.0</td>\n",
              "      <td>99.17</td>\n",
              "      <td>14</td>\n",
              "      <td>A</td>\n",
              "      <td>Rural</td>\n",
              "    </tr>\n",
              "  </tbody>\n",
              "</table>\n",
              "</div>"
            ],
            "text/plain": [
              "      id  perc_premium_paid_by_cash_credit  age_in_days  Income  \\\n",
              "0    649                             0.001        27384   51150   \n",
              "1  81136                             0.124        23735  285140   \n",
              "2  70762                             1.000        17170  186030   \n",
              "3  53935                             0.198        16068  123540   \n",
              "4  15476                             0.041        10591  200020   \n",
              "\n",
              "   Count_3-6_months_late  Count_6-12_months_late  \\\n",
              "0                    0.0                     0.0   \n",
              "1                    0.0                     0.0   \n",
              "2                    0.0                     0.0   \n",
              "3                    0.0                     0.0   \n",
              "4                    1.0                     0.0   \n",
              "\n",
              "   Count_more_than_12_months_late  application_underwriting_score  \\\n",
              "0                             0.0                           99.89   \n",
              "1                             0.0                           98.93   \n",
              "2                             0.0                             NaN   \n",
              "3                             0.0                           99.00   \n",
              "4                             0.0                           99.17   \n",
              "\n",
              "   no_of_premiums_paid sourcing_channel residence_area_type  \n",
              "0                    7                A               Rural  \n",
              "1                   19                A               Urban  \n",
              "2                    2                B               Urban  \n",
              "3                   11                B               Rural  \n",
              "4                   14                A               Rural  "
            ]
          },
          "metadata": {
            "tags": []
          },
          "execution_count": 4
        }
      ]
    },
    {
      "cell_type": "code",
      "metadata": {
        "id": "w9UkJTMIdzdt",
        "colab_type": "code",
        "colab": {},
        "outputId": "e9bd5ca9-c51b-4810-efa8-dea0c0f1770f"
      },
      "source": [
        "train.describe()"
      ],
      "execution_count": null,
      "outputs": [
        {
          "output_type": "execute_result",
          "data": {
            "text/html": [
              "<div>\n",
              "<style scoped>\n",
              "    .dataframe tbody tr th:only-of-type {\n",
              "        vertical-align: middle;\n",
              "    }\n",
              "\n",
              "    .dataframe tbody tr th {\n",
              "        vertical-align: top;\n",
              "    }\n",
              "\n",
              "    .dataframe thead th {\n",
              "        text-align: right;\n",
              "    }\n",
              "</style>\n",
              "<table border=\"1\" class=\"dataframe\">\n",
              "  <thead>\n",
              "    <tr style=\"text-align: right;\">\n",
              "      <th></th>\n",
              "      <th>id</th>\n",
              "      <th>perc_premium_paid_by_cash_credit</th>\n",
              "      <th>age_in_days</th>\n",
              "      <th>Income</th>\n",
              "      <th>Count_3-6_months_late</th>\n",
              "      <th>Count_6-12_months_late</th>\n",
              "      <th>Count_more_than_12_months_late</th>\n",
              "      <th>application_underwriting_score</th>\n",
              "      <th>no_of_premiums_paid</th>\n",
              "      <th>target</th>\n",
              "    </tr>\n",
              "  </thead>\n",
              "  <tbody>\n",
              "    <tr>\n",
              "      <th>count</th>\n",
              "      <td>79853.000000</td>\n",
              "      <td>79853.000000</td>\n",
              "      <td>79853.000000</td>\n",
              "      <td>7.985300e+04</td>\n",
              "      <td>79756.000000</td>\n",
              "      <td>79756.000000</td>\n",
              "      <td>79756.000000</td>\n",
              "      <td>76879.000000</td>\n",
              "      <td>79853.000000</td>\n",
              "      <td>79853.000000</td>\n",
              "    </tr>\n",
              "    <tr>\n",
              "      <th>mean</th>\n",
              "      <td>57167.166368</td>\n",
              "      <td>0.314288</td>\n",
              "      <td>18846.696906</td>\n",
              "      <td>2.088472e+05</td>\n",
              "      <td>0.248671</td>\n",
              "      <td>0.078188</td>\n",
              "      <td>0.060008</td>\n",
              "      <td>99.067291</td>\n",
              "      <td>10.863887</td>\n",
              "      <td>0.937410</td>\n",
              "    </tr>\n",
              "    <tr>\n",
              "      <th>std</th>\n",
              "      <td>32928.970160</td>\n",
              "      <td>0.334915</td>\n",
              "      <td>5208.719136</td>\n",
              "      <td>4.965826e+05</td>\n",
              "      <td>0.691468</td>\n",
              "      <td>0.436507</td>\n",
              "      <td>0.312023</td>\n",
              "      <td>0.739799</td>\n",
              "      <td>5.170687</td>\n",
              "      <td>0.242226</td>\n",
              "    </tr>\n",
              "    <tr>\n",
              "      <th>min</th>\n",
              "      <td>2.000000</td>\n",
              "      <td>0.000000</td>\n",
              "      <td>7670.000000</td>\n",
              "      <td>2.403000e+04</td>\n",
              "      <td>0.000000</td>\n",
              "      <td>0.000000</td>\n",
              "      <td>0.000000</td>\n",
              "      <td>91.900000</td>\n",
              "      <td>2.000000</td>\n",
              "      <td>0.000000</td>\n",
              "    </tr>\n",
              "    <tr>\n",
              "      <th>25%</th>\n",
              "      <td>28640.000000</td>\n",
              "      <td>0.034000</td>\n",
              "      <td>14974.000000</td>\n",
              "      <td>1.080100e+05</td>\n",
              "      <td>0.000000</td>\n",
              "      <td>0.000000</td>\n",
              "      <td>0.000000</td>\n",
              "      <td>98.810000</td>\n",
              "      <td>7.000000</td>\n",
              "      <td>1.000000</td>\n",
              "    </tr>\n",
              "    <tr>\n",
              "      <th>50%</th>\n",
              "      <td>57262.000000</td>\n",
              "      <td>0.167000</td>\n",
              "      <td>18625.000000</td>\n",
              "      <td>1.665600e+05</td>\n",
              "      <td>0.000000</td>\n",
              "      <td>0.000000</td>\n",
              "      <td>0.000000</td>\n",
              "      <td>99.210000</td>\n",
              "      <td>10.000000</td>\n",
              "      <td>1.000000</td>\n",
              "    </tr>\n",
              "    <tr>\n",
              "      <th>75%</th>\n",
              "      <td>85632.000000</td>\n",
              "      <td>0.538000</td>\n",
              "      <td>22636.000000</td>\n",
              "      <td>2.520900e+05</td>\n",
              "      <td>0.000000</td>\n",
              "      <td>0.000000</td>\n",
              "      <td>0.000000</td>\n",
              "      <td>99.540000</td>\n",
              "      <td>14.000000</td>\n",
              "      <td>1.000000</td>\n",
              "    </tr>\n",
              "    <tr>\n",
              "      <th>max</th>\n",
              "      <td>114076.000000</td>\n",
              "      <td>1.000000</td>\n",
              "      <td>37602.000000</td>\n",
              "      <td>9.026260e+07</td>\n",
              "      <td>13.000000</td>\n",
              "      <td>17.000000</td>\n",
              "      <td>11.000000</td>\n",
              "      <td>99.890000</td>\n",
              "      <td>60.000000</td>\n",
              "      <td>1.000000</td>\n",
              "    </tr>\n",
              "  </tbody>\n",
              "</table>\n",
              "</div>"
            ],
            "text/plain": [
              "                  id  perc_premium_paid_by_cash_credit   age_in_days  \\\n",
              "count   79853.000000                      79853.000000  79853.000000   \n",
              "mean    57167.166368                          0.314288  18846.696906   \n",
              "std     32928.970160                          0.334915   5208.719136   \n",
              "min         2.000000                          0.000000   7670.000000   \n",
              "25%     28640.000000                          0.034000  14974.000000   \n",
              "50%     57262.000000                          0.167000  18625.000000   \n",
              "75%     85632.000000                          0.538000  22636.000000   \n",
              "max    114076.000000                          1.000000  37602.000000   \n",
              "\n",
              "             Income  Count_3-6_months_late  Count_6-12_months_late  \\\n",
              "count  7.985300e+04           79756.000000            79756.000000   \n",
              "mean   2.088472e+05               0.248671                0.078188   \n",
              "std    4.965826e+05               0.691468                0.436507   \n",
              "min    2.403000e+04               0.000000                0.000000   \n",
              "25%    1.080100e+05               0.000000                0.000000   \n",
              "50%    1.665600e+05               0.000000                0.000000   \n",
              "75%    2.520900e+05               0.000000                0.000000   \n",
              "max    9.026260e+07              13.000000               17.000000   \n",
              "\n",
              "       Count_more_than_12_months_late  application_underwriting_score  \\\n",
              "count                    79756.000000                    76879.000000   \n",
              "mean                         0.060008                       99.067291   \n",
              "std                          0.312023                        0.739799   \n",
              "min                          0.000000                       91.900000   \n",
              "25%                          0.000000                       98.810000   \n",
              "50%                          0.000000                       99.210000   \n",
              "75%                          0.000000                       99.540000   \n",
              "max                         11.000000                       99.890000   \n",
              "\n",
              "       no_of_premiums_paid        target  \n",
              "count         79853.000000  79853.000000  \n",
              "mean             10.863887      0.937410  \n",
              "std               5.170687      0.242226  \n",
              "min               2.000000      0.000000  \n",
              "25%               7.000000      1.000000  \n",
              "50%              10.000000      1.000000  \n",
              "75%              14.000000      1.000000  \n",
              "max              60.000000      1.000000  "
            ]
          },
          "metadata": {
            "tags": []
          },
          "execution_count": 5
        }
      ]
    },
    {
      "cell_type": "code",
      "metadata": {
        "id": "eq__IlNidzdx",
        "colab_type": "code",
        "colab": {},
        "outputId": "836ddd69-3043-4ca5-9996-12bade2071bf"
      },
      "source": [
        "test.describe()"
      ],
      "execution_count": null,
      "outputs": [
        {
          "output_type": "execute_result",
          "data": {
            "text/html": [
              "<div>\n",
              "<style scoped>\n",
              "    .dataframe tbody tr th:only-of-type {\n",
              "        vertical-align: middle;\n",
              "    }\n",
              "\n",
              "    .dataframe tbody tr th {\n",
              "        vertical-align: top;\n",
              "    }\n",
              "\n",
              "    .dataframe thead th {\n",
              "        text-align: right;\n",
              "    }\n",
              "</style>\n",
              "<table border=\"1\" class=\"dataframe\">\n",
              "  <thead>\n",
              "    <tr style=\"text-align: right;\">\n",
              "      <th></th>\n",
              "      <th>id</th>\n",
              "      <th>perc_premium_paid_by_cash_credit</th>\n",
              "      <th>age_in_days</th>\n",
              "      <th>Income</th>\n",
              "      <th>Count_3-6_months_late</th>\n",
              "      <th>Count_6-12_months_late</th>\n",
              "      <th>Count_more_than_12_months_late</th>\n",
              "      <th>application_underwriting_score</th>\n",
              "      <th>no_of_premiums_paid</th>\n",
              "    </tr>\n",
              "  </thead>\n",
              "  <tbody>\n",
              "    <tr>\n",
              "      <th>count</th>\n",
              "      <td>34224.000000</td>\n",
              "      <td>34224.000000</td>\n",
              "      <td>34224.000000</td>\n",
              "      <td>3.422400e+04</td>\n",
              "      <td>34193.000000</td>\n",
              "      <td>34193.000000</td>\n",
              "      <td>34193.000000</td>\n",
              "      <td>32901.000000</td>\n",
              "      <td>34224.000000</td>\n",
              "    </tr>\n",
              "    <tr>\n",
              "      <th>mean</th>\n",
              "      <td>56739.956376</td>\n",
              "      <td>0.314457</td>\n",
              "      <td>18824.215346</td>\n",
              "      <td>2.028201e+05</td>\n",
              "      <td>0.238733</td>\n",
              "      <td>0.080718</td>\n",
              "      <td>0.058111</td>\n",
              "      <td>99.061898</td>\n",
              "      <td>10.890428</td>\n",
              "    </tr>\n",
              "    <tr>\n",
              "      <th>std</th>\n",
              "      <td>32935.402647</td>\n",
              "      <td>0.334059</td>\n",
              "      <td>5246.525604</td>\n",
              "      <td>2.702536e+05</td>\n",
              "      <td>0.686162</td>\n",
              "      <td>0.454634</td>\n",
              "      <td>0.307046</td>\n",
              "      <td>0.742942</td>\n",
              "      <td>5.216867</td>\n",
              "    </tr>\n",
              "    <tr>\n",
              "      <th>min</th>\n",
              "      <td>1.000000</td>\n",
              "      <td>0.000000</td>\n",
              "      <td>7671.000000</td>\n",
              "      <td>2.403000e+04</td>\n",
              "      <td>0.000000</td>\n",
              "      <td>0.000000</td>\n",
              "      <td>0.000000</td>\n",
              "      <td>91.900000</td>\n",
              "      <td>2.000000</td>\n",
              "    </tr>\n",
              "    <tr>\n",
              "      <th>25%</th>\n",
              "      <td>28254.750000</td>\n",
              "      <td>0.034000</td>\n",
              "      <td>14972.000000</td>\n",
              "      <td>1.063975e+05</td>\n",
              "      <td>0.000000</td>\n",
              "      <td>0.000000</td>\n",
              "      <td>0.000000</td>\n",
              "      <td>98.800000</td>\n",
              "      <td>7.000000</td>\n",
              "    </tr>\n",
              "    <tr>\n",
              "      <th>50%</th>\n",
              "      <td>56488.000000</td>\n",
              "      <td>0.169000</td>\n",
              "      <td>18623.000000</td>\n",
              "      <td>1.650700e+05</td>\n",
              "      <td>0.000000</td>\n",
              "      <td>0.000000</td>\n",
              "      <td>0.000000</td>\n",
              "      <td>99.210000</td>\n",
              "      <td>10.000000</td>\n",
              "    </tr>\n",
              "    <tr>\n",
              "      <th>75%</th>\n",
              "      <td>85386.250000</td>\n",
              "      <td>0.540000</td>\n",
              "      <td>22636.000000</td>\n",
              "      <td>2.500200e+05</td>\n",
              "      <td>0.000000</td>\n",
              "      <td>0.000000</td>\n",
              "      <td>0.000000</td>\n",
              "      <td>99.530000</td>\n",
              "      <td>14.000000</td>\n",
              "    </tr>\n",
              "    <tr>\n",
              "      <th>max</th>\n",
              "      <td>114077.000000</td>\n",
              "      <td>1.000000</td>\n",
              "      <td>35785.000000</td>\n",
              "      <td>2.191455e+07</td>\n",
              "      <td>12.000000</td>\n",
              "      <td>10.000000</td>\n",
              "      <td>7.000000</td>\n",
              "      <td>99.890000</td>\n",
              "      <td>59.000000</td>\n",
              "    </tr>\n",
              "  </tbody>\n",
              "</table>\n",
              "</div>"
            ],
            "text/plain": [
              "                  id  perc_premium_paid_by_cash_credit   age_in_days  \\\n",
              "count   34224.000000                      34224.000000  34224.000000   \n",
              "mean    56739.956376                          0.314457  18824.215346   \n",
              "std     32935.402647                          0.334059   5246.525604   \n",
              "min         1.000000                          0.000000   7671.000000   \n",
              "25%     28254.750000                          0.034000  14972.000000   \n",
              "50%     56488.000000                          0.169000  18623.000000   \n",
              "75%     85386.250000                          0.540000  22636.000000   \n",
              "max    114077.000000                          1.000000  35785.000000   \n",
              "\n",
              "             Income  Count_3-6_months_late  Count_6-12_months_late  \\\n",
              "count  3.422400e+04           34193.000000            34193.000000   \n",
              "mean   2.028201e+05               0.238733                0.080718   \n",
              "std    2.702536e+05               0.686162                0.454634   \n",
              "min    2.403000e+04               0.000000                0.000000   \n",
              "25%    1.063975e+05               0.000000                0.000000   \n",
              "50%    1.650700e+05               0.000000                0.000000   \n",
              "75%    2.500200e+05               0.000000                0.000000   \n",
              "max    2.191455e+07              12.000000               10.000000   \n",
              "\n",
              "       Count_more_than_12_months_late  application_underwriting_score  \\\n",
              "count                    34193.000000                    32901.000000   \n",
              "mean                         0.058111                       99.061898   \n",
              "std                          0.307046                        0.742942   \n",
              "min                          0.000000                       91.900000   \n",
              "25%                          0.000000                       98.800000   \n",
              "50%                          0.000000                       99.210000   \n",
              "75%                          0.000000                       99.530000   \n",
              "max                          7.000000                       99.890000   \n",
              "\n",
              "       no_of_premiums_paid  \n",
              "count         34224.000000  \n",
              "mean             10.890428  \n",
              "std               5.216867  \n",
              "min               2.000000  \n",
              "25%               7.000000  \n",
              "50%              10.000000  \n",
              "75%              14.000000  \n",
              "max              59.000000  "
            ]
          },
          "metadata": {
            "tags": []
          },
          "execution_count": 6
        }
      ]
    },
    {
      "cell_type": "markdown",
      "metadata": {
        "id": "w-dXTM8pdzd1",
        "colab_type": "text"
      },
      "source": [
        "# Data Cleaning"
      ]
    },
    {
      "cell_type": "markdown",
      "metadata": {
        "id": "yaxsQcqkdzd2",
        "colab_type": "text"
      },
      "source": [
        "# Missing Values Treatment"
      ]
    },
    {
      "cell_type": "code",
      "metadata": {
        "id": "fygepOhPdzd2",
        "colab_type": "code",
        "colab": {},
        "outputId": "f74d8f98-1f48-4f42-fdcb-d4f06ec430aa"
      },
      "source": [
        "train.info()"
      ],
      "execution_count": null,
      "outputs": [
        {
          "output_type": "stream",
          "text": [
            "<class 'pandas.core.frame.DataFrame'>\n",
            "RangeIndex: 79853 entries, 0 to 79852\n",
            "Data columns (total 12 columns):\n",
            " #   Column                            Non-Null Count  Dtype  \n",
            "---  ------                            --------------  -----  \n",
            " 0   id                                79853 non-null  int64  \n",
            " 1   perc_premium_paid_by_cash_credit  79853 non-null  float64\n",
            " 2   age_in_days                       79853 non-null  int64  \n",
            " 3   Income                            79853 non-null  int64  \n",
            " 4   Count_3-6_months_late             79756 non-null  float64\n",
            " 5   Count_6-12_months_late            79756 non-null  float64\n",
            " 6   Count_more_than_12_months_late    79756 non-null  float64\n",
            " 7   application_underwriting_score    76879 non-null  float64\n",
            " 8   no_of_premiums_paid               79853 non-null  int64  \n",
            " 9   sourcing_channel                  79853 non-null  object \n",
            " 10  residence_area_type               79853 non-null  object \n",
            " 11  target                            79853 non-null  int64  \n",
            "dtypes: float64(5), int64(5), object(2)\n",
            "memory usage: 7.3+ MB\n"
          ],
          "name": "stdout"
        }
      ]
    },
    {
      "cell_type": "code",
      "metadata": {
        "id": "hUGY7nRXdzd5",
        "colab_type": "code",
        "colab": {},
        "outputId": "5665537a-7b9c-4e7e-d7bc-582044ca93a2"
      },
      "source": [
        "train.isnull().sum().sort_values(ascending=False)"
      ],
      "execution_count": null,
      "outputs": [
        {
          "output_type": "execute_result",
          "data": {
            "text/plain": [
              "application_underwriting_score      2974\n",
              "Count_more_than_12_months_late        97\n",
              "Count_6-12_months_late                97\n",
              "Count_3-6_months_late                 97\n",
              "target                                 0\n",
              "residence_area_type                    0\n",
              "sourcing_channel                       0\n",
              "no_of_premiums_paid                    0\n",
              "Income                                 0\n",
              "age_in_days                            0\n",
              "perc_premium_paid_by_cash_credit       0\n",
              "id                                     0\n",
              "dtype: int64"
            ]
          },
          "metadata": {
            "tags": []
          },
          "execution_count": 8
        }
      ]
    },
    {
      "cell_type": "code",
      "metadata": {
        "id": "LkRHw9fTdzd8",
        "colab_type": "code",
        "colab": {},
        "outputId": "1d0bc8d9-060b-4d42-c35d-0471c9dd7e52"
      },
      "source": [
        "test.isnull().sum().sort_values(ascending=False)"
      ],
      "execution_count": null,
      "outputs": [
        {
          "output_type": "execute_result",
          "data": {
            "text/plain": [
              "application_underwriting_score      1323\n",
              "Count_more_than_12_months_late        31\n",
              "Count_6-12_months_late                31\n",
              "Count_3-6_months_late                 31\n",
              "residence_area_type                    0\n",
              "sourcing_channel                       0\n",
              "no_of_premiums_paid                    0\n",
              "Income                                 0\n",
              "age_in_days                            0\n",
              "perc_premium_paid_by_cash_credit       0\n",
              "id                                     0\n",
              "dtype: int64"
            ]
          },
          "metadata": {
            "tags": []
          },
          "execution_count": 9
        }
      ]
    },
    {
      "cell_type": "code",
      "metadata": {
        "id": "7HQwHxccdzeC",
        "colab_type": "code",
        "colab": {},
        "outputId": "86824f45-9772-4f1b-afc0-cf13e27e5655"
      },
      "source": [
        "null_values = train.isnull().sum()\n",
        "null_values = round((null_values/train.shape[0] * 100), 2)\n",
        "null_values.sort_values(ascending=False)"
      ],
      "execution_count": null,
      "outputs": [
        {
          "output_type": "execute_result",
          "data": {
            "text/plain": [
              "application_underwriting_score      3.72\n",
              "Count_more_than_12_months_late      0.12\n",
              "Count_6-12_months_late              0.12\n",
              "Count_3-6_months_late               0.12\n",
              "target                              0.00\n",
              "residence_area_type                 0.00\n",
              "sourcing_channel                    0.00\n",
              "no_of_premiums_paid                 0.00\n",
              "Income                              0.00\n",
              "age_in_days                         0.00\n",
              "perc_premium_paid_by_cash_credit    0.00\n",
              "id                                  0.00\n",
              "dtype: float64"
            ]
          },
          "metadata": {
            "tags": []
          },
          "execution_count": 10
        }
      ]
    },
    {
      "cell_type": "code",
      "metadata": {
        "id": "edKw9B0sdzeF",
        "colab_type": "code",
        "colab": {}
      },
      "source": [
        "train = train.dropna(subset=['Count_6-12_months_late', 'Count_3-6_months_late'])\n",
        "train['Count_more_than_12_months_late'].fillna(np.max(train['Count_more_than_12_months_late']),inplace=True)"
      ],
      "execution_count": null,
      "outputs": []
    },
    {
      "cell_type": "code",
      "metadata": {
        "id": "QBMK9VZEdzeI",
        "colab_type": "code",
        "colab": {}
      },
      "source": [
        "train['application_underwriting_score'].fillna(np.mean(train['application_underwriting_score']),inplace=True)\n",
        "test['application_underwriting_score'].fillna(np.mean(test['application_underwriting_score']),inplace=True)\n",
        "test['Count_more_than_12_months_late'].fillna(np.max(test['Count_more_than_12_months_late']),inplace=True)\n",
        "test['Count_6-12_months_late'].fillna(method = 'ffill' ,inplace=True)\n",
        "test['Count_3-6_months_late'].fillna(method = 'ffill' ,inplace=True)"
      ],
      "execution_count": null,
      "outputs": []
    },
    {
      "cell_type": "code",
      "metadata": {
        "id": "e1wrf5cCdzeK",
        "colab_type": "code",
        "colab": {},
        "outputId": "2e2acc1e-10b8-4c5f-efba-6d7a0513685a"
      },
      "source": [
        "train.isnull().values.any()"
      ],
      "execution_count": null,
      "outputs": [
        {
          "output_type": "execute_result",
          "data": {
            "text/plain": [
              "False"
            ]
          },
          "metadata": {
            "tags": []
          },
          "execution_count": 13
        }
      ]
    },
    {
      "cell_type": "code",
      "metadata": {
        "id": "rADLb2CKdzeM",
        "colab_type": "code",
        "colab": {}
      },
      "source": [
        "def sourcing_channel(z):\n",
        "    if z=='A':\n",
        "        return 1\n",
        "    if z=='B':\n",
        "        return 2\n",
        "    if z=='C':\n",
        "        return 3\n",
        "    if z=='D':\n",
        "        return 4\n",
        "    if z=='E':\n",
        "        return 5"
      ],
      "execution_count": null,
      "outputs": []
    },
    {
      "cell_type": "code",
      "metadata": {
        "id": "TdsUmCmudzeR",
        "colab_type": "code",
        "colab": {}
      },
      "source": [
        "train['sourcing_channel'] = train['sourcing_channel'].apply(sourcing_channel)\n",
        "test['sourcing_channel'] = test['sourcing_channel'].apply(sourcing_channel)"
      ],
      "execution_count": null,
      "outputs": []
    },
    {
      "cell_type": "markdown",
      "metadata": {
        "id": "JfWk365jdzeT",
        "colab_type": "text"
      },
      "source": [
        "# Univariate Analysis"
      ]
    },
    {
      "cell_type": "code",
      "metadata": {
        "id": "Nuyi0-S3dzeU",
        "colab_type": "code",
        "colab": {},
        "outputId": "d0c7926e-0c4e-4e4f-885e-959784306862"
      },
      "source": [
        "train['age_in_days'] = np.power(train['age_in_days']/5 , 1/3)\n",
        "test['age_in_days'] = np.power(test['age_in_days']/5 , 1/3)\n",
        "sn.distplot(train['age_in_days'])"
      ],
      "execution_count": null,
      "outputs": [
        {
          "output_type": "execute_result",
          "data": {
            "text/plain": [
              "<matplotlib.axes._subplots.AxesSubplot at 0x186213efba8>"
            ]
          },
          "metadata": {
            "tags": []
          },
          "execution_count": 16
        },
        {
          "output_type": "display_data",
          "data": {
            "image/png": "[encoded data removed]",
            "text/plain": [
              "<Figure size 432x288 with 1 Axes>"
            ]
          },
          "metadata": {
            "tags": [],
            "needs_background": "light"
          }
        }
      ]
    },
    {
      "cell_type": "code",
      "metadata": {
        "id": "9B7PPd3mdzeX",
        "colab_type": "code",
        "colab": {},
        "outputId": "4cc29456-29dc-4e96-eb75-584669e1d30b"
      },
      "source": [
        "train['perc_premium_paid_by_cash_credit'] = np.square(train['perc_premium_paid_by_cash_credit'])\n",
        "test['perc_premium_paid_by_cash_credit'] = np.square(test['perc_premium_paid_by_cash_credit'])\n",
        "sn.distplot(train['perc_premium_paid_by_cash_credit'])"
      ],
      "execution_count": null,
      "outputs": [
        {
          "output_type": "execute_result",
          "data": {
            "text/plain": [
              "<matplotlib.axes._subplots.AxesSubplot at 0x186225e7710>"
            ]
          },
          "metadata": {
            "tags": []
          },
          "execution_count": 17
        },
        {
          "output_type": "display_data",
          "data": {
            "image/png": "[encoded data removed]",
            "text/plain": [
              "<Figure size 432x288 with 1 Axes>"
            ]
          },
          "metadata": {
            "tags": [],
            "needs_background": "light"
          }
        }
      ]
    },
    {
      "cell_type": "code",
      "metadata": {
        "id": "I_l-51MWdzea",
        "colab_type": "code",
        "colab": {},
        "outputId": "92a3d5a9-8f13-4688-9de8-9ecaae6df787"
      },
      "source": [
        "sn.distplot(train['no_of_premiums_paid'])"
      ],
      "execution_count": null,
      "outputs": [
        {
          "output_type": "execute_result",
          "data": {
            "text/plain": [
              "<matplotlib.axes._subplots.AxesSubplot at 0x1862262c710>"
            ]
          },
          "metadata": {
            "tags": []
          },
          "execution_count": 18
        },
        {
          "output_type": "display_data",
          "data": {
            "image/png": "[encoded data removed]",
            "text/plain": [
              "<Figure size 432x288 with 1 Axes>"
            ]
          },
          "metadata": {
            "tags": [],
            "needs_background": "light"
          }
        }
      ]
    },
    {
      "cell_type": "markdown",
      "metadata": {
        "id": "4AiHm9oidzed",
        "colab_type": "text"
      },
      "source": [
        "# Bivariate Analysis"
      ]
    },
    {
      "cell_type": "code",
      "metadata": {
        "id": "2zSHwu91dzed",
        "colab_type": "code",
        "colab": {},
        "outputId": "480b67f2-b083-4f5a-b8f8-a90ba3ec1747"
      },
      "source": [
        "corr = train[['id', 'perc_premium_paid_by_cash_credit', 'age_in_days', 'Income',\n",
        "       'Count_3-6_months_late', 'Count_6-12_months_late',\n",
        "       'Count_more_than_12_months_late', 'application_underwriting_score',\n",
        "       'no_of_premiums_paid', 'sourcing_channel','target']].corr()\n",
        "mask = np.array(corr)\n",
        "mask[np.tril_indices_from(mask)] = False\n",
        "fig,ax= plt.subplots()\n",
        "fig.set_size_inches(20,10)\n",
        "sn.heatmap(corr, mask=mask,vmax=.9, square=True,annot=True, cmap=\"YlGnBu\")"
      ],
      "execution_count": null,
      "outputs": [
        {
          "output_type": "execute_result",
          "data": {
            "text/plain": [
              "<matplotlib.axes._subplots.AxesSubplot at 0x186227d1eb8>"
            ]
          },
          "metadata": {
            "tags": []
          },
          "execution_count": 19
        },
        {
          "output_type": "display_data",
          "data": {
            "image/png": "[encoded data removed]",
            "text/plain": [
              "<Figure size 1440x720 with 2 Axes>"
            ]
          },
          "metadata": {
            "tags": [],
            "needs_background": "light"
          }
        }
      ]
    },
    {
      "cell_type": "markdown",
      "metadata": {
        "id": "Vk5Q5T0vdzeh",
        "colab_type": "text"
      },
      "source": [
        "# Outlier Treatment"
      ]
    },
    {
      "cell_type": "markdown",
      "metadata": {
        "id": "yWfTdoSRdzeh",
        "colab_type": "text"
      },
      "source": [
        "## sourcing channel"
      ]
    },
    {
      "cell_type": "code",
      "metadata": {
        "id": "ksnIENfndzei",
        "colab_type": "code",
        "colab": {},
        "outputId": "c8695ca4-fcce-457d-c247-f3a7eb985706"
      },
      "source": [
        "train['sourcing_channel'].plot.box()"
      ],
      "execution_count": null,
      "outputs": [
        {
          "output_type": "execute_result",
          "data": {
            "text/plain": [
              "<matplotlib.axes._subplots.AxesSubplot at 0x18622064b38>"
            ]
          },
          "metadata": {
            "tags": []
          },
          "execution_count": 20
        },
        {
          "output_type": "display_data",
          "data": {
            "image/png": "[encoded data removed]",
            "text/plain": [
              "<Figure size 432x288 with 1 Axes>"
            ]
          },
          "metadata": {
            "tags": [],
            "needs_background": "light"
          }
        }
      ]
    },
    {
      "cell_type": "markdown",
      "metadata": {
        "id": "-Iw3H_Ubdzek",
        "colab_type": "text"
      },
      "source": [
        "## age in days"
      ]
    },
    {
      "cell_type": "code",
      "metadata": {
        "id": "YMdXCQfcdzek",
        "colab_type": "code",
        "colab": {},
        "outputId": "a47146a3-b5cc-4329-85b1-e72cd34add5a"
      },
      "source": [
        "train['age_in_days'].plot.box()"
      ],
      "execution_count": null,
      "outputs": [
        {
          "output_type": "execute_result",
          "data": {
            "text/plain": [
              "<matplotlib.axes._subplots.AxesSubplot at 0x186220dae80>"
            ]
          },
          "metadata": {
            "tags": []
          },
          "execution_count": 21
        },
        {
          "output_type": "display_data",
          "data": {
            "image/png": "[encoded data removed]",
            "text/plain": [
              "<Figure size 432x288 with 1 Axes>"
            ]
          },
          "metadata": {
            "tags": [],
            "needs_background": "light"
          }
        }
      ]
    },
    {
      "cell_type": "code",
      "metadata": {
        "id": "QWQur-MHdzen",
        "colab_type": "code",
        "colab": {},
        "outputId": "f4901f4d-e6a0-4bd6-d743-b312c8e6871b"
      },
      "source": [
        "Q1_age_train = train['age_in_days'].quantile(0.25)\n",
        "Q3_age_train = train['age_in_days'].quantile(0.75)\n",
        "IQR_age_train = Q3_age_train  - Q1_age_train \n",
        "upper_age_train = Q3_age_train + 1.5 * IQR_age_train\n",
        "lower_age_train = Q1_age_train - 1.5 * IQR_age_train\n",
        "upper_age_train, lower_age_train"
      ],
      "execution_count": null,
      "outputs": [
        {
          "output_type": "execute_result",
          "data": {
            "text/plain": [
              "(19.73536514458394, 11.22194691316557)"
            ]
          },
          "metadata": {
            "tags": []
          },
          "execution_count": 22
        }
      ]
    },
    {
      "cell_type": "markdown",
      "metadata": {
        "id": "_1J_1Msvdzeq",
        "colab_type": "text"
      },
      "source": [
        "## Income"
      ]
    },
    {
      "cell_type": "code",
      "metadata": {
        "id": "_P8Amz_-dzeq",
        "colab_type": "code",
        "colab": {},
        "outputId": "8ebd0dde-1b01-455e-83ad-a35ba7d2e818"
      },
      "source": [
        "train['Income'].plot.box()"
      ],
      "execution_count": null,
      "outputs": [
        {
          "output_type": "execute_result",
          "data": {
            "text/plain": [
              "<matplotlib.axes._subplots.AxesSubplot at 0x1862212d9b0>"
            ]
          },
          "metadata": {
            "tags": []
          },
          "execution_count": 23
        },
        {
          "output_type": "display_data",
          "data": {
            "image/png": "[encoded data removed]",
            "text/plain": [
              "<Figure size 432x288 with 1 Axes>"
            ]
          },
          "metadata": {
            "tags": [],
            "needs_background": "light"
          }
        }
      ]
    },
    {
      "cell_type": "markdown",
      "metadata": {
        "id": "8KaD2javdzet",
        "colab_type": "text"
      },
      "source": [
        "## Count months late"
      ]
    },
    {
      "cell_type": "code",
      "metadata": {
        "id": "Dy6EGLKYdzet",
        "colab_type": "code",
        "colab": {},
        "outputId": "47a41f9d-99ac-47ab-b676-eace574e942a"
      },
      "source": [
        "train['Count_3-6_months_late'] = train['Count_3-6_months_late'] + 100\n",
        "test['Count_3-6_months_late'] = test['Count_3-6_months_late'] + 100\n",
        "train['Count_3-6_months_late'].plot.box()"
      ],
      "execution_count": null,
      "outputs": [
        {
          "output_type": "execute_result",
          "data": {
            "text/plain": [
              "<matplotlib.axes._subplots.AxesSubplot at 0x1862218a978>"
            ]
          },
          "metadata": {
            "tags": []
          },
          "execution_count": 24
        },
        {
          "output_type": "display_data",
          "data": {
            "image/png": "[encoded data removed]",
            "text/plain": [
              "<Figure size 432x288 with 1 Axes>"
            ]
          },
          "metadata": {
            "tags": [],
            "needs_background": "light"
          }
        }
      ]
    },
    {
      "cell_type": "code",
      "metadata": {
        "id": "vwIQN7YAdzez",
        "colab_type": "code",
        "colab": {},
        "outputId": "a2ea0cd1-69f7-4d5e-f08d-f8a654dda4ba"
      },
      "source": [
        "train['Count_6-12_months_late'] = train['Count_6-12_months_late'] + 100\n",
        "test['Count_6-12_months_late'] = test['Count_6-12_months_late'] + 100\n",
        "train['Count_6-12_months_late'].plot.box()"
      ],
      "execution_count": null,
      "outputs": [
        {
          "output_type": "execute_result",
          "data": {
            "text/plain": [
              "<matplotlib.axes._subplots.AxesSubplot at 0x186221ee198>"
            ]
          },
          "metadata": {
            "tags": []
          },
          "execution_count": 25
        },
        {
          "output_type": "display_data",
          "data": {
            "image/png": "[encoded data removed]",
            "text/plain": [
              "<Figure size 432x288 with 1 Axes>"
            ]
          },
          "metadata": {
            "tags": [],
            "needs_background": "light"
          }
        }
      ]
    },
    {
      "cell_type": "code",
      "metadata": {
        "id": "5rhbsaK0dze2",
        "colab_type": "code",
        "colab": {},
        "outputId": "e5d05f3c-9ec2-40ed-dcf3-37bfc1c1091b"
      },
      "source": [
        "train['Count_more_than_12_months_late'] = train['Count_more_than_12_months_late'] + 100\n",
        "test['Count_more_than_12_months_late'] = test['Count_more_than_12_months_late'] + 100\n",
        "train['Count_more_than_12_months_late'].plot.box()"
      ],
      "execution_count": null,
      "outputs": [
        {
          "output_type": "execute_result",
          "data": {
            "text/plain": [
              "<matplotlib.axes._subplots.AxesSubplot at 0x186228588d0>"
            ]
          },
          "metadata": {
            "tags": []
          },
          "execution_count": 26
        },
        {
          "output_type": "display_data",
          "data": {
            "image/png": "[encoded data removed]",
            "text/plain": [
              "<Figure size 432x288 with 1 Axes>"
            ]
          },
          "metadata": {
            "tags": [],
            "needs_background": "light"
          }
        }
      ]
    },
    {
      "cell_type": "markdown",
      "metadata": {
        "id": "Ee7pNhKydze4",
        "colab_type": "text"
      },
      "source": [
        "## application_underwriting_score"
      ]
    },
    {
      "cell_type": "code",
      "metadata": {
        "id": "RBS4chgbdze5",
        "colab_type": "code",
        "colab": {},
        "outputId": "2bf69d8a-779d-43eb-cccf-82bb313b0e8f"
      },
      "source": [
        "train['application_underwriting_score'].plot.box()"
      ],
      "execution_count": null,
      "outputs": [
        {
          "output_type": "execute_result",
          "data": {
            "text/plain": [
              "<matplotlib.axes._subplots.AxesSubplot at 0x186228c60b8>"
            ]
          },
          "metadata": {
            "tags": []
          },
          "execution_count": 27
        },
        {
          "output_type": "display_data",
          "data": {
            "image/png": "[encoded data removed]",
            "text/plain": [
              "<Figure size 432x288 with 1 Axes>"
            ]
          },
          "metadata": {
            "tags": [],
            "needs_background": "light"
          }
        }
      ]
    },
    {
      "cell_type": "code",
      "metadata": {
        "id": "WbgcjXMndze8",
        "colab_type": "code",
        "colab": {},
        "outputId": "c9876e30-78f7-4dd1-ed0a-ae3e9623ba5c"
      },
      "source": [
        "Q1_application_train = train['application_underwriting_score'].quantile(0.25)\n",
        "Q3_application_train = train['application_underwriting_score'].quantile(0.75)\n",
        "IQR_application_train = Q3_application_train  - Q1_application_train \n",
        "upper_application_train = Q3_application_train + 1.5 * IQR_application_train\n",
        "lower_application_train = Q1_application_train - 1.5 * IQR_application_train\n",
        "upper_application_train, lower_application_train"
      ],
      "execution_count": null,
      "outputs": [
        {
          "output_type": "execute_result",
          "data": {
            "text/plain": [
              "(100.55499999999999, 97.795)"
            ]
          },
          "metadata": {
            "tags": []
          },
          "execution_count": 28
        }
      ]
    },
    {
      "cell_type": "markdown",
      "metadata": {
        "id": "2fOLpAGrdze-",
        "colab_type": "text"
      },
      "source": [
        "## no_of_premiums_paid"
      ]
    },
    {
      "cell_type": "code",
      "metadata": {
        "id": "o7KdFcLsdze-",
        "colab_type": "code",
        "colab": {},
        "outputId": "b7df1001-f6ab-44dc-b49f-9a5647fb3a0e"
      },
      "source": [
        "train['no_of_premiums_paid'].plot.box()"
      ],
      "execution_count": null,
      "outputs": [
        {
          "output_type": "execute_result",
          "data": {
            "text/plain": [
              "<matplotlib.axes._subplots.AxesSubplot at 0x18622d7ae80>"
            ]
          },
          "metadata": {
            "tags": []
          },
          "execution_count": 29
        },
        {
          "output_type": "display_data",
          "data": {
            "image/png": "[encoded data removed]",
            "text/plain": [
              "<Figure size 432x288 with 1 Axes>"
            ]
          },
          "metadata": {
            "tags": [],
            "needs_background": "light"
          }
        }
      ]
    },
    {
      "cell_type": "code",
      "metadata": {
        "id": "gHLbE27IdzfB",
        "colab_type": "code",
        "colab": {},
        "outputId": "95e2429d-f9b3-4f19-d626-8f91c43e555d"
      },
      "source": [
        "Q1_premiumpaid_train = train['no_of_premiums_paid'].quantile(0.25)\n",
        "Q3_premiumpaid_train = train['no_of_premiums_paid'].quantile(0.75)\n",
        "IQR_premiumpaid_train = Q3_premiumpaid_train  - Q1_premiumpaid_train \n",
        "upper_premiumpaid_train = Q3_premiumpaid_train + 1.5 * IQR_premiumpaid_train\n",
        "lower_premiumpaid_train = Q1_premiumpaid_train - 1.5 * IQR_premiumpaid_train\n",
        "upper_premiumpaid_train, lower_premiumpaid_train"
      ],
      "execution_count": null,
      "outputs": [
        {
          "output_type": "execute_result",
          "data": {
            "text/plain": [
              "(24.5, -3.5)"
            ]
          },
          "metadata": {
            "tags": []
          },
          "execution_count": 30
        }
      ]
    },
    {
      "cell_type": "code",
      "metadata": {
        "id": "xv8wr32sdzfE",
        "colab_type": "code",
        "colab": {},
        "outputId": "a3ce7013-e9c4-4bdc-87da-2a3933b40976"
      },
      "source": [
        "train.describe()"
      ],
      "execution_count": null,
      "outputs": [
        {
          "output_type": "execute_result",
          "data": {
            "text/html": [
              "<div>\n",
              "<style scoped>\n",
              "    .dataframe tbody tr th:only-of-type {\n",
              "        vertical-align: middle;\n",
              "    }\n",
              "\n",
              "    .dataframe tbody tr th {\n",
              "        vertical-align: top;\n",
              "    }\n",
              "\n",
              "    .dataframe thead th {\n",
              "        text-align: right;\n",
              "    }\n",
              "</style>\n",
              "<table border=\"1\" class=\"dataframe\">\n",
              "  <thead>\n",
              "    <tr style=\"text-align: right;\">\n",
              "      <th></th>\n",
              "      <th>id</th>\n",
              "      <th>perc_premium_paid_by_cash_credit</th>\n",
              "      <th>age_in_days</th>\n",
              "      <th>Income</th>\n",
              "      <th>Count_3-6_months_late</th>\n",
              "      <th>Count_6-12_months_late</th>\n",
              "      <th>Count_more_than_12_months_late</th>\n",
              "      <th>application_underwriting_score</th>\n",
              "      <th>no_of_premiums_paid</th>\n",
              "      <th>sourcing_channel</th>\n",
              "      <th>target</th>\n",
              "    </tr>\n",
              "  </thead>\n",
              "  <tbody>\n",
              "    <tr>\n",
              "      <th>count</th>\n",
              "      <td>79756.000000</td>\n",
              "      <td>79756.000000</td>\n",
              "      <td>79756.000000</td>\n",
              "      <td>7.975600e+04</td>\n",
              "      <td>79756.000000</td>\n",
              "      <td>79756.000000</td>\n",
              "      <td>79756.000000</td>\n",
              "      <td>79756.000000</td>\n",
              "      <td>79756.000000</td>\n",
              "      <td>79756.000000</td>\n",
              "      <td>79756.000000</td>\n",
              "    </tr>\n",
              "    <tr>\n",
              "      <th>mean</th>\n",
              "      <td>57168.377288</td>\n",
              "      <td>0.209983</td>\n",
              "      <td>15.427597</td>\n",
              "      <td>2.089946e+05</td>\n",
              "      <td>100.248671</td>\n",
              "      <td>100.078188</td>\n",
              "      <td>100.060008</td>\n",
              "      <td>99.067053</td>\n",
              "      <td>10.874643</td>\n",
              "      <td>1.823123</td>\n",
              "      <td>0.938086</td>\n",
              "    </tr>\n",
              "    <tr>\n",
              "      <th>std</th>\n",
              "      <td>32930.361608</td>\n",
              "      <td>0.321384</td>\n",
              "      <td>1.464233</td>\n",
              "      <td>4.968563e+05</td>\n",
              "      <td>0.691468</td>\n",
              "      <td>0.436507</td>\n",
              "      <td>0.312023</td>\n",
              "      <td>0.726210</td>\n",
              "      <td>5.164617</td>\n",
              "      <td>1.052218</td>\n",
              "      <td>0.241001</td>\n",
              "    </tr>\n",
              "    <tr>\n",
              "      <th>min</th>\n",
              "      <td>2.000000</td>\n",
              "      <td>0.000000</td>\n",
              "      <td>11.532987</td>\n",
              "      <td>2.403000e+04</td>\n",
              "      <td>100.000000</td>\n",
              "      <td>100.000000</td>\n",
              "      <td>100.000000</td>\n",
              "      <td>91.900000</td>\n",
              "      <td>2.000000</td>\n",
              "      <td>1.000000</td>\n",
              "      <td>0.000000</td>\n",
              "    </tr>\n",
              "    <tr>\n",
              "      <th>25%</th>\n",
              "      <td>28640.750000</td>\n",
              "      <td>0.001156</td>\n",
              "      <td>14.414479</td>\n",
              "      <td>1.080500e+05</td>\n",
              "      <td>100.000000</td>\n",
              "      <td>100.000000</td>\n",
              "      <td>100.000000</td>\n",
              "      <td>98.830000</td>\n",
              "      <td>7.000000</td>\n",
              "      <td>1.000000</td>\n",
              "      <td>1.000000</td>\n",
              "    </tr>\n",
              "    <tr>\n",
              "      <th>50%</th>\n",
              "      <td>57262.500000</td>\n",
              "      <td>0.027889</td>\n",
              "      <td>15.501838</td>\n",
              "      <td>1.667400e+05</td>\n",
              "      <td>100.000000</td>\n",
              "      <td>100.000000</td>\n",
              "      <td>100.000000</td>\n",
              "      <td>99.180000</td>\n",
              "      <td>10.000000</td>\n",
              "      <td>1.000000</td>\n",
              "      <td>1.000000</td>\n",
              "    </tr>\n",
              "    <tr>\n",
              "      <th>75%</th>\n",
              "      <td>85637.250000</td>\n",
              "      <td>0.287296</td>\n",
              "      <td>16.542833</td>\n",
              "      <td>2.521100e+05</td>\n",
              "      <td>100.000000</td>\n",
              "      <td>100.000000</td>\n",
              "      <td>100.000000</td>\n",
              "      <td>99.520000</td>\n",
              "      <td>14.000000</td>\n",
              "      <td>3.000000</td>\n",
              "      <td>1.000000</td>\n",
              "    </tr>\n",
              "    <tr>\n",
              "      <th>max</th>\n",
              "      <td>114076.000000</td>\n",
              "      <td>1.000000</td>\n",
              "      <td>19.592070</td>\n",
              "      <td>9.026260e+07</td>\n",
              "      <td>113.000000</td>\n",
              "      <td>117.000000</td>\n",
              "      <td>111.000000</td>\n",
              "      <td>99.890000</td>\n",
              "      <td>60.000000</td>\n",
              "      <td>5.000000</td>\n",
              "      <td>1.000000</td>\n",
              "    </tr>\n",
              "  </tbody>\n",
              "</table>\n",
              "</div>"
            ],
            "text/plain": [
              "                  id  perc_premium_paid_by_cash_credit   age_in_days  \\\n",
              "count   79756.000000                      79756.000000  79756.000000   \n",
              "mean    57168.377288                          0.209983     15.427597   \n",
              "std     32930.361608                          0.321384      1.464233   \n",
              "min         2.000000                          0.000000     11.532987   \n",
              "25%     28640.750000                          0.001156     14.414479   \n",
              "50%     57262.500000                          0.027889     15.501838   \n",
              "75%     85637.250000                          0.287296     16.542833   \n",
              "max    114076.000000                          1.000000     19.592070   \n",
              "\n",
              "             Income  Count_3-6_months_late  Count_6-12_months_late  \\\n",
              "count  7.975600e+04           79756.000000            79756.000000   \n",
              "mean   2.089946e+05             100.248671              100.078188   \n",
              "std    4.968563e+05               0.691468                0.436507   \n",
              "min    2.403000e+04             100.000000              100.000000   \n",
              "25%    1.080500e+05             100.000000              100.000000   \n",
              "50%    1.667400e+05             100.000000              100.000000   \n",
              "75%    2.521100e+05             100.000000              100.000000   \n",
              "max    9.026260e+07             113.000000              117.000000   \n",
              "\n",
              "       Count_more_than_12_months_late  application_underwriting_score  \\\n",
              "count                    79756.000000                    79756.000000   \n",
              "mean                       100.060008                       99.067053   \n",
              "std                          0.312023                        0.726210   \n",
              "min                        100.000000                       91.900000   \n",
              "25%                        100.000000                       98.830000   \n",
              "50%                        100.000000                       99.180000   \n",
              "75%                        100.000000                       99.520000   \n",
              "max                        111.000000                       99.890000   \n",
              "\n",
              "       no_of_premiums_paid  sourcing_channel        target  \n",
              "count         79756.000000      79756.000000  79756.000000  \n",
              "mean             10.874643          1.823123      0.938086  \n",
              "std               5.164617          1.052218      0.241001  \n",
              "min               2.000000          1.000000      0.000000  \n",
              "25%               7.000000          1.000000      1.000000  \n",
              "50%              10.000000          1.000000      1.000000  \n",
              "75%              14.000000          3.000000      1.000000  \n",
              "max              60.000000          5.000000      1.000000  "
            ]
          },
          "metadata": {
            "tags": []
          },
          "execution_count": 31
        }
      ]
    },
    {
      "cell_type": "code",
      "metadata": {
        "id": "sh7ISeyXdzfG",
        "colab_type": "code",
        "colab": {}
      },
      "source": [
        "x = train.drop(['target'], 1)"
      ],
      "execution_count": null,
      "outputs": []
    },
    {
      "cell_type": "code",
      "metadata": {
        "id": "rFRwlUWJdzfI",
        "colab_type": "code",
        "colab": {}
      },
      "source": [
        "x.loc[x['age_in_days']>18, 'age_in_days'] = np.mean(x['age_in_days'])"
      ],
      "execution_count": null,
      "outputs": []
    },
    {
      "cell_type": "code",
      "metadata": {
        "id": "J6CEaLxLdzfK",
        "colab_type": "code",
        "colab": {}
      },
      "source": [
        "x.loc[x['sourcing_channel']>=4, 'sourcing_channel'] = np.mean(x['sourcing_channel'])"
      ],
      "execution_count": null,
      "outputs": []
    },
    {
      "cell_type": "code",
      "metadata": {
        "id": "4vSSl5OrdzfM",
        "colab_type": "code",
        "colab": {}
      },
      "source": [
        "x.loc[x['no_of_premiums_paid']>25, 'no_of_premiums_paid'] = np.mean(x['no_of_premiums_paid'])"
      ],
      "execution_count": null,
      "outputs": []
    },
    {
      "cell_type": "code",
      "metadata": {
        "id": "_hbHPa2RdzfO",
        "colab_type": "code",
        "colab": {}
      },
      "source": [
        "x.loc[x['Income']>19000000, 'Income'] = np.mean(x['Income'])"
      ],
      "execution_count": null,
      "outputs": []
    },
    {
      "cell_type": "code",
      "metadata": {
        "id": "cy-JPIhRdzfQ",
        "colab_type": "code",
        "colab": {}
      },
      "source": [
        "x.loc[x['Count_3-6_months_late']>101.5, 'Count_3-6_months_late'] = np.mean(x['Count_3-6_months_late'])"
      ],
      "execution_count": null,
      "outputs": []
    },
    {
      "cell_type": "code",
      "metadata": {
        "id": "Q51DisjvdzfS",
        "colab_type": "code",
        "colab": {}
      },
      "source": [
        "x.loc[x['Count_6-12_months_late']>105, 'Count_6-12_months_late'] = np.mean(x['Count_6-12_months_late'])"
      ],
      "execution_count": null,
      "outputs": []
    },
    {
      "cell_type": "code",
      "metadata": {
        "id": "tvKn3X6jdzfW",
        "colab_type": "code",
        "colab": {}
      },
      "source": [
        "x.loc[x['Count_more_than_12_months_late']>104, 'Count_more_than_12_months_late'] = np.mean(x['Count_more_than_12_months_late'])"
      ],
      "execution_count": null,
      "outputs": []
    },
    {
      "cell_type": "code",
      "metadata": {
        "id": "jbPjOI5xdzfY",
        "colab_type": "code",
        "colab": {}
      },
      "source": [
        "x.loc[x['application_underwriting_score']<96, 'application_underwriting_score'] = np.max(x['application_underwriting_score'])"
      ],
      "execution_count": null,
      "outputs": []
    },
    {
      "cell_type": "code",
      "metadata": {
        "id": "byJPPcx7dzfc",
        "colab_type": "code",
        "colab": {}
      },
      "source": [
        "y = train['target']"
      ],
      "execution_count": null,
      "outputs": []
    },
    {
      "cell_type": "code",
      "metadata": {
        "id": "LyeNpT7adzff",
        "colab_type": "code",
        "colab": {}
      },
      "source": [
        "x = pd.get_dummies(x)"
      ],
      "execution_count": null,
      "outputs": []
    },
    {
      "cell_type": "code",
      "metadata": {
        "id": "yaQonbgRdzfk",
        "colab_type": "code",
        "colab": {}
      },
      "source": [
        "def rmsle(y, y_):\n",
        "    y = np.exp(y),  \n",
        "    y_ = np.exp(y_)\n",
        "    log1 = np.nan_to_num(np.array([np.log(v + 1) for v in y]))\n",
        "    log2 = np.nan_to_num(np.array([np.log(v + 1) for v in y_]))\n",
        "    calc = (log1 - log2) ** 2\n",
        "    return np.sqrt(np.mean(calc))"
      ],
      "execution_count": null,
      "outputs": []
    },
    {
      "cell_type": "code",
      "metadata": {
        "id": "OPKD2XbIdzfn",
        "colab_type": "code",
        "colab": {}
      },
      "source": [
        "from sklearn.model_selection import train_test_split"
      ],
      "execution_count": null,
      "outputs": []
    },
    {
      "cell_type": "code",
      "metadata": {
        "id": "yPluo6ICdzfq",
        "colab_type": "code",
        "colab": {}
      },
      "source": [
        "train_x,val_x,train_y,val_y = train_test_split(x,y, random_state = 101, stratify=y)"
      ],
      "execution_count": null,
      "outputs": []
    },
    {
      "cell_type": "code",
      "metadata": {
        "id": "LWL-f5sodzfr",
        "colab_type": "code",
        "colab": {},
        "outputId": "ce0e5c75-af76-4755-c21d-f93a758d5ec5"
      },
      "source": [
        "train_x.shape, train_y.shape, val_x.shape, val_y.shape"
      ],
      "execution_count": null,
      "outputs": [
        {
          "output_type": "execute_result",
          "data": {
            "text/plain": [
              "((59817, 12), (59817,), (19939, 12), (19939,))"
            ]
          },
          "metadata": {
            "tags": []
          },
          "execution_count": 46
        }
      ]
    },
    {
      "cell_type": "markdown",
      "metadata": {
        "id": "Uq2GQD12dzft",
        "colab_type": "text"
      },
      "source": [
        "# LinearRegression"
      ]
    },
    {
      "cell_type": "code",
      "metadata": {
        "id": "a1g_K9Bhdzfu",
        "colab_type": "code",
        "colab": {}
      },
      "source": [
        "from sklearn.metrics import roc_auc_score"
      ],
      "execution_count": null,
      "outputs": []
    },
    {
      "cell_type": "code",
      "metadata": {
        "id": "O6SHRZehdzfx",
        "colab_type": "code",
        "colab": {}
      },
      "source": [
        "from sklearn.linear_model import LinearRegression"
      ],
      "execution_count": null,
      "outputs": []
    },
    {
      "cell_type": "code",
      "metadata": {
        "id": "5wnY-Qlfdzfz",
        "colab_type": "code",
        "colab": {}
      },
      "source": [
        "lreg = LinearRegression()"
      ],
      "execution_count": null,
      "outputs": []
    },
    {
      "cell_type": "code",
      "metadata": {
        "id": "V5vFbsjkdzf3",
        "colab_type": "code",
        "colab": {},
        "outputId": "8a98a867-799c-4cad-e0f3-4325e4f6ded1"
      },
      "source": [
        "lreg.fit(train_x,train_y)"
      ],
      "execution_count": null,
      "outputs": [
        {
          "output_type": "execute_result",
          "data": {
            "text/plain": [
              "LinearRegression()"
            ]
          },
          "metadata": {
            "tags": []
          },
          "execution_count": 50
        }
      ]
    },
    {
      "cell_type": "code",
      "metadata": {
        "id": "GMVn9LGddzf5",
        "colab_type": "code",
        "colab": {}
      },
      "source": [
        "prediction = lreg.predict(val_x)"
      ],
      "execution_count": null,
      "outputs": []
    },
    {
      "cell_type": "code",
      "metadata": {
        "id": "vHy47bBodzf7",
        "colab_type": "code",
        "colab": {},
        "outputId": "b51703c2-2252-4d1f-90ea-1c99de84fcfb"
      },
      "source": [
        "rmsle(val_y, prediction)"
      ],
      "execution_count": null,
      "outputs": [
        {
          "output_type": "execute_result",
          "data": {
            "text/plain": [
              "0.13776147046425755"
            ]
          },
          "metadata": {
            "tags": []
          },
          "execution_count": 52
        }
      ]
    },
    {
      "cell_type": "code",
      "metadata": {
        "id": "AKBDnsF8dzf9",
        "colab_type": "code",
        "colab": {},
        "outputId": "2e8cd2c8-fbee-4839-a795-a8c786d6d553"
      },
      "source": [
        "lreg.score(val_x, val_y)"
      ],
      "execution_count": null,
      "outputs": [
        {
          "output_type": "execute_result",
          "data": {
            "text/plain": [
              "0.15193506433295023"
            ]
          },
          "metadata": {
            "tags": []
          },
          "execution_count": 53
        }
      ]
    },
    {
      "cell_type": "code",
      "metadata": {
        "id": "Jlnr_MCkdzgA",
        "colab_type": "code",
        "colab": {},
        "outputId": "50feba10-677f-434f-8ccd-e4f78adc8872"
      },
      "source": [
        "lreg.score(train_x, train_y)"
      ],
      "execution_count": null,
      "outputs": [
        {
          "output_type": "execute_result",
          "data": {
            "text/plain": [
              "0.1516968325816177"
            ]
          },
          "metadata": {
            "tags": []
          },
          "execution_count": 54
        }
      ]
    },
    {
      "cell_type": "code",
      "metadata": {
        "scrolled": true,
        "id": "tiTNOzBddzgC",
        "colab_type": "code",
        "colab": {},
        "outputId": "2f48f356-4a75-4788-9c8a-fd59dce74788"
      },
      "source": [
        "print(\"Accuracy:\",roc_auc_score(val_y, lreg.predict(val_x)))"
      ],
      "execution_count": null,
      "outputs": [
        {
          "output_type": "stream",
          "text": [
            "Accuracy: 0.8256288782976495\n"
          ],
          "name": "stdout"
        }
      ]
    },
    {
      "cell_type": "markdown",
      "metadata": {
        "id": "QZnVV4aYdzgG",
        "colab_type": "text"
      },
      "source": [
        "# logistic regression"
      ]
    },
    {
      "cell_type": "code",
      "metadata": {
        "id": "CVz3xxx9dzgG",
        "colab_type": "code",
        "colab": {}
      },
      "source": [
        "from sklearn.linear_model import LogisticRegression"
      ],
      "execution_count": null,
      "outputs": []
    },
    {
      "cell_type": "code",
      "metadata": {
        "id": "pjVycd5BdzgJ",
        "colab_type": "code",
        "colab": {}
      },
      "source": [
        "logreg=LogisticRegression()"
      ],
      "execution_count": null,
      "outputs": []
    },
    {
      "cell_type": "code",
      "metadata": {
        "id": "ZrdpHvOPdzgL",
        "colab_type": "code",
        "colab": {},
        "outputId": "133f7790-ed23-4c23-cd39-1f9e06e3dac3"
      },
      "source": [
        "logreg.fit(train_x,train_y)"
      ],
      "execution_count": null,
      "outputs": [
        {
          "output_type": "execute_result",
          "data": {
            "text/plain": [
              "LogisticRegression()"
            ]
          },
          "metadata": {
            "tags": []
          },
          "execution_count": 58
        }
      ]
    },
    {
      "cell_type": "code",
      "metadata": {
        "id": "gkaTz3prdzgN",
        "colab_type": "code",
        "colab": {},
        "outputId": "ac973e46-d2f4-4334-9a89-29c0837bf1f8"
      },
      "source": [
        "logreg.score(train_x, train_y)"
      ],
      "execution_count": null,
      "outputs": [
        {
          "output_type": "execute_result",
          "data": {
            "text/plain": [
              "0.9380778039687714"
            ]
          },
          "metadata": {
            "tags": []
          },
          "execution_count": 59
        }
      ]
    },
    {
      "cell_type": "code",
      "metadata": {
        "id": "7OvTmrUcdzgU",
        "colab_type": "code",
        "colab": {}
      },
      "source": [
        "prediction = logreg.predict_proba(val_x)"
      ],
      "execution_count": null,
      "outputs": []
    },
    {
      "cell_type": "code",
      "metadata": {
        "id": "z6115SqTdzgY",
        "colab_type": "code",
        "colab": {},
        "outputId": "17958495-0c41-4b40-f1dc-8833549297e4"
      },
      "source": [
        "rmsle(val_y,[i[1] for i in prediction])"
      ],
      "execution_count": null,
      "outputs": [
        {
          "output_type": "execute_result",
          "data": {
            "text/plain": [
              "0.14934125912273838"
            ]
          },
          "metadata": {
            "tags": []
          },
          "execution_count": 61
        }
      ]
    },
    {
      "cell_type": "code",
      "metadata": {
        "id": "_8_3p4oBdzgc",
        "colab_type": "code",
        "colab": {},
        "outputId": "f1fd6aa2-4803-4081-bffa-f9d41714b348"
      },
      "source": [
        "logreg.score(val_x, val_y)"
      ],
      "execution_count": null,
      "outputs": [
        {
          "output_type": "execute_result",
          "data": {
            "text/plain": [
              "0.9381112392798034"
            ]
          },
          "metadata": {
            "tags": []
          },
          "execution_count": 62
        }
      ]
    },
    {
      "cell_type": "code",
      "metadata": {
        "id": "J4YSQoN8dzgh",
        "colab_type": "code",
        "colab": {},
        "outputId": "b7230a7f-2cc6-4928-f319-129f841c1a1f"
      },
      "source": [
        "roc_auc_score(val_y,[i[1] for i in prediction])"
      ],
      "execution_count": null,
      "outputs": [
        {
          "output_type": "execute_result",
          "data": {
            "text/plain": [
              "0.5773198301531455"
            ]
          },
          "metadata": {
            "tags": []
          },
          "execution_count": 63
        }
      ]
    },
    {
      "cell_type": "markdown",
      "metadata": {
        "id": "AfdlQWpsdzgm",
        "colab_type": "text"
      },
      "source": [
        "# Decision tree"
      ]
    },
    {
      "cell_type": "code",
      "metadata": {
        "id": "i7UIlLzodzgm",
        "colab_type": "code",
        "colab": {}
      },
      "source": [
        "from sklearn.tree import DecisionTreeClassifier"
      ],
      "execution_count": null,
      "outputs": []
    },
    {
      "cell_type": "code",
      "metadata": {
        "id": "KaOzkcPkdzgo",
        "colab_type": "code",
        "colab": {}
      },
      "source": [
        "model=DecisionTreeClassifier(max_depth=7)"
      ],
      "execution_count": null,
      "outputs": []
    },
    {
      "cell_type": "code",
      "metadata": {
        "id": "BjQ4iX-ddzgq",
        "colab_type": "code",
        "colab": {},
        "outputId": "d68a4f31-bd4f-4491-896c-780bc6f40a87"
      },
      "source": [
        "model.fit(train_x,train_y)"
      ],
      "execution_count": null,
      "outputs": [
        {
          "output_type": "execute_result",
          "data": {
            "text/plain": [
              "DecisionTreeClassifier(max_depth=7)"
            ]
          },
          "metadata": {
            "tags": []
          },
          "execution_count": 66
        }
      ]
    },
    {
      "cell_type": "code",
      "metadata": {
        "id": "jVdp50OJdzgt",
        "colab_type": "code",
        "colab": {},
        "outputId": "9a78e91c-d0d6-4187-cc23-1392e9299f4d"
      },
      "source": [
        "model.score(train_x, train_y)"
      ],
      "execution_count": null,
      "outputs": [
        {
          "output_type": "execute_result",
          "data": {
            "text/plain": [
              "0.9433773007673404"
            ]
          },
          "metadata": {
            "tags": []
          },
          "execution_count": 67
        }
      ]
    },
    {
      "cell_type": "code",
      "metadata": {
        "id": "2egi5n0Qdzgx",
        "colab_type": "code",
        "colab": {}
      },
      "source": [
        "prediction = model.predict_proba(val_x)"
      ],
      "execution_count": null,
      "outputs": []
    },
    {
      "cell_type": "code",
      "metadata": {
        "id": "t59mO-lVdzg1",
        "colab_type": "code",
        "colab": {},
        "outputId": "760575fe-2e1f-4a31-d141-babcf42060d9"
      },
      "source": [
        "rmsle(val_y,[i[1] for i in prediction])"
      ],
      "execution_count": null,
      "outputs": [
        {
          "output_type": "execute_result",
          "data": {
            "text/plain": [
              "0.13872201185218958"
            ]
          },
          "metadata": {
            "tags": []
          },
          "execution_count": 69
        }
      ]
    },
    {
      "cell_type": "code",
      "metadata": {
        "id": "CIraITSbdzg3",
        "colab_type": "code",
        "colab": {},
        "outputId": "370d9aab-510f-45f0-f923-43994233026e"
      },
      "source": [
        "model.score(val_x, val_y)"
      ],
      "execution_count": null,
      "outputs": [
        {
          "output_type": "execute_result",
          "data": {
            "text/plain": [
              "0.938863533778023"
            ]
          },
          "metadata": {
            "tags": []
          },
          "execution_count": 70
        }
      ]
    },
    {
      "cell_type": "code",
      "metadata": {
        "id": "EXzmuYyLdzg6",
        "colab_type": "code",
        "colab": {},
        "outputId": "50298af7-e051-483d-9bc8-f21c7e4b5936"
      },
      "source": [
        "roc_auc_score(val_y,[i[1] for i in prediction])"
      ],
      "execution_count": null,
      "outputs": [
        {
          "output_type": "execute_result",
          "data": {
            "text/plain": [
              "0.8251180033593322"
            ]
          },
          "metadata": {
            "tags": []
          },
          "execution_count": 71
        }
      ]
    },
    {
      "cell_type": "markdown",
      "metadata": {
        "id": "ET9XhALLdzg8",
        "colab_type": "text"
      },
      "source": [
        "# Submission"
      ]
    },
    {
      "cell_type": "code",
      "metadata": {
        "id": "hPiyNxmldzg8",
        "colab_type": "code",
        "colab": {}
      },
      "source": [
        "##as we saw the auc score is highest for linear regression so we use it for predicting probablities for test data"
      ],
      "execution_count": null,
      "outputs": []
    },
    {
      "cell_type": "code",
      "metadata": {
        "id": "JqpRf84Rdzg-",
        "colab_type": "code",
        "colab": {},
        "outputId": "220544d8-69d5-45aa-b9b8-29bbadd8aa33"
      },
      "source": [
        "lreg.fit(x,y)"
      ],
      "execution_count": null,
      "outputs": [
        {
          "output_type": "execute_result",
          "data": {
            "text/plain": [
              "LinearRegression()"
            ]
          },
          "metadata": {
            "tags": []
          },
          "execution_count": 72
        }
      ]
    },
    {
      "cell_type": "code",
      "metadata": {
        "id": "fT6rZ8ZxdzhC",
        "colab_type": "code",
        "colab": {}
      },
      "source": [
        "test_data =test\n",
        "test_data = pd.get_dummies(test_data)\n"
      ],
      "execution_count": null,
      "outputs": []
    },
    {
      "cell_type": "code",
      "metadata": {
        "id": "DjLjN_JVdzhF",
        "colab_type": "code",
        "colab": {}
      },
      "source": [
        "test_prediction = lreg.predict(test_data)"
      ],
      "execution_count": null,
      "outputs": []
    },
    {
      "cell_type": "code",
      "metadata": {
        "id": "-tDST3MPdzhI",
        "colab_type": "code",
        "colab": {}
      },
      "source": [
        "Submission = pd.DataFrame()"
      ],
      "execution_count": null,
      "outputs": []
    },
    {
      "cell_type": "code",
      "metadata": {
        "id": "wsEb7S5AdzhK",
        "colab_type": "code",
        "colab": {}
      },
      "source": [
        "Submission['id'] = test['id']"
      ],
      "execution_count": null,
      "outputs": []
    },
    {
      "cell_type": "code",
      "metadata": {
        "id": "OlZNZQ8HdzhM",
        "colab_type": "code",
        "colab": {}
      },
      "source": [
        "Submission['target'] = test_prediction\n",
        "Submission.loc[Submission['target']>0.9999, 'target'] = 1\n",
        "Submission.loc[Submission['target']<0.005, 'target'] = 0"
      ],
      "execution_count": null,
      "outputs": []
    },
    {
      "cell_type": "code",
      "metadata": {
        "id": "z7CCgodJdzhO",
        "colab_type": "code",
        "colab": {}
      },
      "source": [
        "Submission.to_csv('Submission_final.csv', header=True, index=False)"
      ],
      "execution_count": null,
      "outputs": []
    },
    {
      "cell_type": "code",
      "metadata": {
        "scrolled": true,
        "id": "G6-hrUXldzhS",
        "colab_type": "code",
        "colab": {},
        "outputId": "8360d565-82fd-461a-822f-76a5ad822997"
      },
      "source": [
        "pd.read_csv('Submission_final.csv')"
      ],
      "execution_count": null,
      "outputs": [
        {
          "output_type": "execute_result",
          "data": {
            "text/html": [
              "<div>\n",
              "<style scoped>\n",
              "    .dataframe tbody tr th:only-of-type {\n",
              "        vertical-align: middle;\n",
              "    }\n",
              "\n",
              "    .dataframe tbody tr th {\n",
              "        vertical-align: top;\n",
              "    }\n",
              "\n",
              "    .dataframe thead th {\n",
              "        text-align: right;\n",
              "    }\n",
              "</style>\n",
              "<table border=\"1\" class=\"dataframe\">\n",
              "  <thead>\n",
              "    <tr style=\"text-align: right;\">\n",
              "      <th></th>\n",
              "      <th>id</th>\n",
              "      <th>target</th>\n",
              "    </tr>\n",
              "  </thead>\n",
              "  <tbody>\n",
              "    <tr>\n",
              "      <th>0</th>\n",
              "      <td>649</td>\n",
              "      <td>1.000000</td>\n",
              "    </tr>\n",
              "    <tr>\n",
              "      <th>1</th>\n",
              "      <td>81136</td>\n",
              "      <td>0.975741</td>\n",
              "    </tr>\n",
              "    <tr>\n",
              "      <th>2</th>\n",
              "      <td>70762</td>\n",
              "      <td>0.885206</td>\n",
              "    </tr>\n",
              "    <tr>\n",
              "      <th>3</th>\n",
              "      <td>53935</td>\n",
              "      <td>0.972431</td>\n",
              "    </tr>\n",
              "    <tr>\n",
              "      <th>4</th>\n",
              "      <td>15476</td>\n",
              "      <td>0.919476</td>\n",
              "    </tr>\n",
              "    <tr>\n",
              "      <th>...</th>\n",
              "      <td>...</td>\n",
              "      <td>...</td>\n",
              "    </tr>\n",
              "    <tr>\n",
              "      <th>34219</th>\n",
              "      <td>81988</td>\n",
              "      <td>0.957943</td>\n",
              "    </tr>\n",
              "    <tr>\n",
              "      <th>34220</th>\n",
              "      <td>30326</td>\n",
              "      <td>0.999432</td>\n",
              "    </tr>\n",
              "    <tr>\n",
              "      <th>34221</th>\n",
              "      <td>65749</td>\n",
              "      <td>0.957071</td>\n",
              "    </tr>\n",
              "    <tr>\n",
              "      <th>34222</th>\n",
              "      <td>65686</td>\n",
              "      <td>0.708178</td>\n",
              "    </tr>\n",
              "    <tr>\n",
              "      <th>34223</th>\n",
              "      <td>93826</td>\n",
              "      <td>0.925118</td>\n",
              "    </tr>\n",
              "  </tbody>\n",
              "</table>\n",
              "<p>34224 rows × 2 columns</p>\n",
              "</div>"
            ],
            "text/plain": [
              "          id    target\n",
              "0        649  1.000000\n",
              "1      81136  0.975741\n",
              "2      70762  0.885206\n",
              "3      53935  0.972431\n",
              "4      15476  0.919476\n",
              "...      ...       ...\n",
              "34219  81988  0.957943\n",
              "34220  30326  0.999432\n",
              "34221  65749  0.957071\n",
              "34222  65686  0.708178\n",
              "34223  93826  0.925118\n",
              "\n",
              "[34224 rows x 2 columns]"
            ]
          },
          "metadata": {
            "tags": []
          },
          "execution_count": 79
        }
      ]
    }
  ]
}