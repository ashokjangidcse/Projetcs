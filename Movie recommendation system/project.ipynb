{
 "cells": [
  {
   "cell_type": "markdown",
   "metadata": {
    "colab_type": "text",
    "id": "u_0oQaUOA9CI"
   },
   "source": [
    "# Task 1: Introduction\n",
    "\n",
    "![Movies Collage](https://i.imgur.com/T7V0VZ6.png)\n",
    "\n",
    "For this project we are going to create a recommendation engine for movies for users based on there past behaviour.\n",
    "\n",
    "---\n",
    "\n",
    "We will focus on the **collaborative filtering** approach, that is: \n",
    "\n",
    "The user is recommended items that people with similar tastes and preferences liked in the past. In another word, this method predicts unknown ratings by using the similarities between users.\n",
    "\n",
    "---\n",
    "\n",
    "Note: This notebook uses `python 3` and these packages: `pandas`, `numpy`, `matplotlib` and `scikit-surprise`\n",
    "\n",
    "We can install them using:\n",
    "```Shell\n",
    "pip3 install pandas matplotlib numpy scikit-surprise\n",
    "```"
   ]
  },
  {
   "cell_type": "markdown",
   "metadata": {
    "colab_type": "text",
    "id": "eMZcgcQsm-9y"
   },
   "source": [
    "## 1.1: Installing Libraries"
   ]
  },
  {
   "cell_type": "code",
   "execution_count": 1,
   "metadata": {
    "colab": {},
    "colab_type": "code",
    "id": "HNmYMKhCnITm"
   },
   "outputs": [
    {
     "name": "stdout",
     "output_type": "stream",
     "text": [
      ">> Installing Libraries\n",
      "Defaulting to user installation because normal site-packages is not writeable\n",
      "Requirement already satisfied: pandas in /home/rhyme/.local/lib/python3.6/site-packages (1.1.0)\n",
      "Requirement already satisfied: matplotlib in /home/rhyme/.local/lib/python3.6/site-packages (3.3.0)\n",
      "Requirement already satisfied: numpy in /home/rhyme/.local/lib/python3.6/site-packages (1.19.1)\n",
      "Requirement already satisfied: scikit-surprise in /home/rhyme/.local/lib/python3.6/site-packages (1.1.1)\n",
      "Requirement already satisfied: python-dateutil>=2.7.3 in /home/rhyme/.local/lib/python3.6/site-packages (from pandas) (2.8.1)\n",
      "Requirement already satisfied: pytz>=2017.2 in /home/rhyme/.local/lib/python3.6/site-packages (from pandas) (2020.1)\n",
      "Requirement already satisfied: cycler>=0.10 in /home/rhyme/.local/lib/python3.6/site-packages (from matplotlib) (0.10.0)\n",
      "Requirement already satisfied: pillow>=6.2.0 in /home/rhyme/.local/lib/python3.6/site-packages (from matplotlib) (7.2.0)\n",
      "Requirement already satisfied: pyparsing!=2.0.4,!=2.1.2,!=2.1.6,>=2.0.3 in /home/rhyme/.local/lib/python3.6/site-packages (from matplotlib) (2.4.7)\n",
      "Requirement already satisfied: kiwisolver>=1.0.1 in /home/rhyme/.local/lib/python3.6/site-packages (from matplotlib) (1.2.0)\n",
      "Requirement already satisfied: joblib>=0.11 in /home/rhyme/.local/lib/python3.6/site-packages (from scikit-surprise) (0.16.0)\n",
      "Requirement already satisfied: six>=1.10.0 in /usr/lib/python3/dist-packages (from scikit-surprise) (1.11.0)\n",
      "Requirement already satisfied: scipy>=1.0.0 in /home/rhyme/.local/lib/python3.6/site-packages (from scikit-surprise) (1.5.2)\n",
      "\u001b[33mWARNING: You are using pip version 20.2.1; however, version 20.2.3 is available.\n",
      "You should consider upgrading via the '/usr/bin/python3 -m pip install --upgrade pip' command.\u001b[0m\n",
      ">> Libraries Installed\n"
     ]
    }
   ],
   "source": [
    "print('>> Installing Libraries')\n",
    "!pip3 install pandas matplotlib numpy scikit-surprise\n",
    "\n",
    "\n",
    "print('>> Libraries Installed')"
   ]
  },
  {
   "cell_type": "markdown",
   "metadata": {
    "colab_type": "text",
    "id": "FYwbN6KqJjPo"
   },
   "source": [
    "## 1.2: Importing Libraries\n",
    "\n",
    "First of all, we will need to import some libraries. This includes surprise which we will use to create the recommendation system."
   ]
  },
  {
   "cell_type": "code",
   "execution_count": 2,
   "metadata": {
    "colab": {},
    "colab_type": "code",
    "id": "5OGYBAjxAzLC"
   },
   "outputs": [
    {
     "name": "stdout",
     "output_type": "stream",
     "text": [
      ">> Importing Libraries\n",
      ">> Libraries imported.\n"
     ]
    }
   ],
   "source": [
    "print('>> Importing Libraries')\n",
    "\n",
    "import pandas as pd\n",
    "\n",
    "from surprise import Reader, Dataset, SVD\n",
    "\n",
    "from surprise.accuracy import rmse, mae\n",
    "from surprise.model_selection import cross_validate\n",
    "\n",
    "print('>> Libraries imported.')"
   ]
  },
  {
   "cell_type": "markdown",
   "metadata": {
    "colab_type": "text",
    "id": "Zg9d8GR6A_rr"
   },
   "source": [
    "# Task 2: Importing Data\n",
    "\n",
    "We will use open-source dataset from GroupLens Research ([movielens.org](http://movielens.org))"
   ]
  },
  {
   "cell_type": "markdown",
   "metadata": {
    "colab_type": "text",
    "id": "vS0k5tdWKSfZ"
   },
   "source": [
    "## 2.1: Importing the Data\n",
    "\n",
    "The dataset is saved in a `ratings.csv` file. We will use pandas to take a look at some of the rows."
   ]
  },
  {
   "cell_type": "code",
   "execution_count": 5,
   "metadata": {
    "colab": {},
    "colab_type": "code",
    "id": "3lbOmdPwKsPm"
   },
   "outputs": [
    {
     "data": {
      "text/html": [
       "<div>\n",
       "<style scoped>\n",
       "    .dataframe tbody tr th:only-of-type {\n",
       "        vertical-align: middle;\n",
       "    }\n",
       "\n",
       "    .dataframe tbody tr th {\n",
       "        vertical-align: top;\n",
       "    }\n",
       "\n",
       "    .dataframe thead th {\n",
       "        text-align: right;\n",
       "    }\n",
       "</style>\n",
       "<table border=\"1\" class=\"dataframe\">\n",
       "  <thead>\n",
       "    <tr style=\"text-align: right;\">\n",
       "      <th></th>\n",
       "      <th>userId</th>\n",
       "      <th>movieId</th>\n",
       "      <th>rating</th>\n",
       "      <th>timestamp</th>\n",
       "    </tr>\n",
       "  </thead>\n",
       "  <tbody>\n",
       "    <tr>\n",
       "      <th>0</th>\n",
       "      <td>1</td>\n",
       "      <td>1</td>\n",
       "      <td>4.0</td>\n",
       "      <td>964982703</td>\n",
       "    </tr>\n",
       "    <tr>\n",
       "      <th>1</th>\n",
       "      <td>1</td>\n",
       "      <td>3</td>\n",
       "      <td>4.0</td>\n",
       "      <td>964981247</td>\n",
       "    </tr>\n",
       "    <tr>\n",
       "      <th>2</th>\n",
       "      <td>1</td>\n",
       "      <td>6</td>\n",
       "      <td>4.0</td>\n",
       "      <td>964982224</td>\n",
       "    </tr>\n",
       "    <tr>\n",
       "      <th>3</th>\n",
       "      <td>1</td>\n",
       "      <td>47</td>\n",
       "      <td>5.0</td>\n",
       "      <td>964983815</td>\n",
       "    </tr>\n",
       "    <tr>\n",
       "      <th>4</th>\n",
       "      <td>1</td>\n",
       "      <td>50</td>\n",
       "      <td>5.0</td>\n",
       "      <td>964982931</td>\n",
       "    </tr>\n",
       "  </tbody>\n",
       "</table>\n",
       "</div>"
      ],
      "text/plain": [
       "   userId  movieId  rating  timestamp\n",
       "0       1        1     4.0  964982703\n",
       "1       1        3     4.0  964981247\n",
       "2       1        6     4.0  964982224\n",
       "3       1       47     5.0  964983815\n",
       "4       1       50     5.0  964982931"
      ]
     },
     "execution_count": 5,
     "metadata": {},
     "output_type": "execute_result"
    }
   ],
   "source": [
    "df = pd.read_csv('ratings.csv')\n",
    "df.head()"
   ]
  },
  {
   "cell_type": "markdown",
   "metadata": {
    "colab_type": "text",
    "id": "GvUhDQIgLOEY"
   },
   "source": [
    "## 2.2 Dropping timestamp\n",
    "\n",
    "We won't be using the timestamp when user gave the particular rating. So we will drop that column."
   ]
  },
  {
   "cell_type": "code",
   "execution_count": 6,
   "metadata": {
    "colab": {},
    "colab_type": "code",
    "id": "TXvWh3duLjiP"
   },
   "outputs": [],
   "source": [
    "df.drop('timestamp',axis=1, inplace=True)"
   ]
  },
  {
   "cell_type": "markdown",
   "metadata": {
    "colab_type": "text",
    "id": "OPEBn0gAK-5m"
   },
   "source": [
    "## 2.3 Check for Missing Data\n",
    "\n",
    "It's a good practice to check if the data has any missing values. In real world data, this is quite common and must be taken care of before any data pre-processing or model training."
   ]
  },
  {
   "cell_type": "code",
   "execution_count": 7,
   "metadata": {
    "colab": {},
    "colab_type": "code",
    "id": "BfBqk7KkLFV6"
   },
   "outputs": [
    {
     "data": {
      "text/plain": [
       "userId     0\n",
       "movieId    0\n",
       "rating     0\n",
       "dtype: int64"
      ]
     },
     "execution_count": 7,
     "metadata": {},
     "output_type": "execute_result"
    }
   ],
   "source": [
    "df.isna().sum()"
   ]
  },
  {
   "cell_type": "markdown",
   "metadata": {
    "colab_type": "text",
    "id": "FQYVA-J5MCUG"
   },
   "source": [
    "# Task 3: EDA (Exploratory data analysis)\n",
    "\n",
    "In statistics, exploratory data analysis is an approach to analyzing data sets to summarize their main characteristics."
   ]
  },
  {
   "cell_type": "markdown",
   "metadata": {
    "colab_type": "text",
    "id": "XJ0CD6ZiOpRI"
   },
   "source": [
    "## 3.1 Number of movies/users"
   ]
  },
  {
   "cell_type": "code",
   "execution_count": 8,
   "metadata": {
    "colab": {},
    "colab_type": "code",
    "id": "vnEIeAO6Psj2"
   },
   "outputs": [
    {
     "name": "stdout",
     "output_type": "stream",
     "text": [
      "n_movies: 9724\n",
      "n_users: 610\n"
     ]
    }
   ],
   "source": [
    "n_movies = df[\"movieId\"].nunique()\n",
    "n_users = df[\"userId\"].nunique()\n",
    "print(f'n_movies: {n_movies}')\n",
    "print(f'n_users: {n_users}')"
   ]
  },
  {
   "cell_type": "markdown",
   "metadata": {
    "colab_type": "text",
    "id": "dclqP0iXOo_F"
   },
   "source": [
    "## 3.2 Sparsity of our data\n",
    "\n",
    "Sparsity (%) = `(No of missing values/ (Total Values))X100`"
   ]
  },
  {
   "cell_type": "code",
   "execution_count": 9,
   "metadata": {
    "colab": {},
    "colab_type": "code",
    "id": "xPYF0zlfREMK"
   },
   "outputs": [
    {
     "name": "stdout",
     "output_type": "stream",
     "text": [
      "Sparsity:98.30003169443864\n"
     ]
    }
   ],
   "source": [
    "available_ratings = df['rating'].count()\n",
    "total_ratings = n_movies*n_users\n",
    "missing_ratings = total_ratings - available_ratings\n",
    "sparsity= (missing_ratings/total_ratings)*100\n",
    "print(f'Sparsity:{sparsity}')"
   ]
  },
  {
   "cell_type": "markdown",
   "metadata": {
    "colab_type": "text",
    "id": "kcYDLtG5Ok_p"
   },
   "source": [
    "## 3.3 Ratings Distribution"
   ]
  },
  {
   "cell_type": "code",
   "execution_count": 10,
   "metadata": {
    "colab": {},
    "colab_type": "code",
    "id": "ZO7Mv-jdL4_z"
   },
   "outputs": [
    {
     "name": "stderr",
     "output_type": "stream",
     "text": [
      "Matplotlib is building the font cache; this may take a moment.\n"
     ]
    },
    {
     "data": {
      "text/plain": [
       "<AxesSubplot:>"
      ]
     },
     "execution_count": 10,
     "metadata": {},
     "output_type": "execute_result"
    },
    {
     "data": {
      "image/png": "[encoded data removed]",
      "text/plain": [
       "<Figure size 432x288 with 1 Axes>"
      ]
     },
     "metadata": {
      "needs_background": "light"
     },
     "output_type": "display_data"
    }
   ],
   "source": [
    "df['rating'].value_counts().plot(kind='bar')\n"
   ]
  },
  {
   "cell_type": "markdown",
   "metadata": {
    "colab_type": "text",
    "id": "xdLsIItxSd9K"
   },
   "source": [
    "# Task 4: Dimensionality Reduction\n",
    "\n",
    "To reduce the dimensionality of the dataset, we will filter out rarely rated movies and rarely rating users"
   ]
  },
  {
   "cell_type": "markdown",
   "metadata": {
    "colab_type": "text",
    "id": "i3jYt3m5TNVL"
   },
   "source": [
    "## 4.1 Filter movies with less than 3 ratings"
   ]
  },
  {
   "cell_type": "code",
   "execution_count": 11,
   "metadata": {
    "colab": {},
    "colab_type": "code",
    "id": "msZU9YSxSeUo"
   },
   "outputs": [],
   "source": [
    "filter_movies =  df['movieId'].value_counts() > 3\n",
    "filter_movies = filter_movies[filter_movies].index.tolist()"
   ]
  },
  {
   "cell_type": "markdown",
   "metadata": {
    "colab_type": "text",
    "id": "IYaMxlXcTdGS"
   },
   "source": [
    "## 4.2 Filter users with less than 3 movies rated"
   ]
  },
  {
   "cell_type": "code",
   "execution_count": 12,
   "metadata": {
    "colab": {},
    "colab_type": "code",
    "id": "WPeNAggIS-Y_"
   },
   "outputs": [],
   "source": [
    "filter_users =  df['userId'].value_counts() > 3\n",
    "filter_users = filter_users[filter_users].index.tolist()"
   ]
  },
  {
   "cell_type": "markdown",
   "metadata": {
    "colab_type": "text",
    "id": "c2LFIAGXT3ro"
   },
   "source": [
    "## 4.3 Remove rarely rated movies and rarely rating users"
   ]
  },
  {
   "cell_type": "code",
   "execution_count": 14,
   "metadata": {
    "colab": {},
    "colab_type": "code",
    "id": "tTUG4ao6S_x7"
   },
   "outputs": [
    {
     "name": "stdout",
     "output_type": "stream",
     "text": [
      "original shape:(100836, 3)\n",
      "new shape:(92394, 3)\n"
     ]
    }
   ],
   "source": [
    "print(f'original shape:{df.shape}')\n",
    "df = df[(df['movieId'].isin(filter_movies)) & (df['userId'].isin(filter_users))]\n",
    "print(f'new shape:{df.shape}')"
   ]
  },
  {
   "cell_type": "markdown",
   "metadata": {
    "colab_type": "text",
    "id": "TbviZWiPM3jQ"
   },
   "source": [
    "# Task 5: Create Training and Test Sets"
   ]
  },
  {
   "cell_type": "markdown",
   "metadata": {
    "colab_type": "text",
    "id": "TIK2L0VuhbgA"
   },
   "source": [
    "## 5.1 Columns used for training"
   ]
  },
  {
   "cell_type": "code",
   "execution_count": 15,
   "metadata": {
    "colab": {},
    "colab_type": "code",
    "id": "bXF4dmJKhF7q"
   },
   "outputs": [],
   "source": [
    "cols = ['userId','movieId','rating']"
   ]
  },
  {
   "cell_type": "markdown",
   "metadata": {
    "colab_type": "text",
    "id": "J8rylnJmUjYk"
   },
   "source": [
    "## 5.2 Create surprise dataset"
   ]
  },
  {
   "cell_type": "code",
   "execution_count": 16,
   "metadata": {
    "colab": {},
    "colab_type": "code",
    "id": "4UOTMUssM6Tw"
   },
   "outputs": [],
   "source": [
    "reader = Reader(rating_scale = (0.5,5))\n",
    "data = Dataset.load_from_df(df[cols],reader)"
   ]
  },
  {
   "cell_type": "markdown",
   "metadata": {
    "colab_type": "text",
    "id": "8lM--CdvguDz"
   },
   "source": [
    "## 5.3 Create Train-set and Prediction-set"
   ]
  },
  {
   "cell_type": "code",
   "execution_count": 17,
   "metadata": {
    "colab": {},
    "colab_type": "code",
    "id": "heITVvtvU1FD"
   },
   "outputs": [],
   "source": [
    "trainset = data.build_full_trainset()\n",
    "antiset = trainset.build_anti_testset()"
   ]
  },
  {
   "cell_type": "markdown",
   "metadata": {
    "colab_type": "text",
    "id": "AYfhHDReuO5h"
   },
   "source": [
    "# Task 6: Creating and training the model"
   ]
  },
  {
   "cell_type": "markdown",
   "metadata": {
    "colab_type": "text",
    "id": "R4e28tFHubv9"
   },
   "source": [
    "## 6.1 Creating the model\n",
    "\n",
    "**SVD (Singular Value Decomposition)**\n",
    "\n",
    "Interaction Matrix = A X B X C"
   ]
  },
  {
   "cell_type": "code",
   "execution_count": 18,
   "metadata": {
    "colab": {},
    "colab_type": "code",
    "id": "Ft4rS3L-hqeS"
   },
   "outputs": [],
   "source": [
    "algo = SVD(n_epochs = 25, verbose = True)"
   ]
  },
  {
   "cell_type": "markdown",
   "metadata": {
    "colab_type": "text",
    "id": "h_16sRpXwahF"
   },
   "source": [
    "## 6.2 Training the model\n",
    "\n",
    "**Mean Absolute Error (MAE)**: MAE measures the average magnitude of the errors in a set of predictions, without considering their direction. \n",
    "\n",
    "**Root mean squared error (RMSE)**:  RMSE is the square root of the average of squared differences between prediction and actual observation."
   ]
  },
  {
   "cell_type": "code",
   "execution_count": 19,
   "metadata": {
    "colab": {},
    "colab_type": "code",
    "id": "nh-E5DS5wYe_"
   },
   "outputs": [
    {
     "name": "stdout",
     "output_type": "stream",
     "text": [
      "Processing epoch 0\n",
      "Processing epoch 1\n",
      "Processing epoch 2\n",
      "Processing epoch 3\n",
      "Processing epoch 4\n",
      "Processing epoch 5\n",
      "Processing epoch 6\n",
      "Processing epoch 7\n",
      "Processing epoch 8\n",
      "Processing epoch 9\n",
      "Processing epoch 10\n",
      "Processing epoch 11\n",
      "Processing epoch 12\n",
      "Processing epoch 13\n",
      "Processing epoch 14\n",
      "Processing epoch 15\n",
      "Processing epoch 16\n",
      "Processing epoch 17\n",
      "Processing epoch 18\n",
      "Processing epoch 19\n",
      "Processing epoch 20\n",
      "Processing epoch 21\n",
      "Processing epoch 22\n",
      "Processing epoch 23\n",
      "Processing epoch 24\n",
      "Processing epoch 0\n",
      "Processing epoch 1\n",
      "Processing epoch 2\n",
      "Processing epoch 3\n",
      "Processing epoch 4\n",
      "Processing epoch 5\n",
      "Processing epoch 6\n",
      "Processing epoch 7\n",
      "Processing epoch 8\n",
      "Processing epoch 9\n",
      "Processing epoch 10\n",
      "Processing epoch 11\n",
      "Processing epoch 12\n",
      "Processing epoch 13\n",
      "Processing epoch 14\n",
      "Processing epoch 15\n",
      "Processing epoch 16\n",
      "Processing epoch 17\n",
      "Processing epoch 18\n",
      "Processing epoch 19\n",
      "Processing epoch 20\n",
      "Processing epoch 21\n",
      "Processing epoch 22\n",
      "Processing epoch 23\n",
      "Processing epoch 24\n",
      "Processing epoch 0\n",
      "Processing epoch 1\n",
      "Processing epoch 2\n",
      "Processing epoch 3\n",
      "Processing epoch 4\n",
      "Processing epoch 5\n",
      "Processing epoch 6\n",
      "Processing epoch 7\n",
      "Processing epoch 8\n",
      "Processing epoch 9\n",
      "Processing epoch 10\n",
      "Processing epoch 11\n",
      "Processing epoch 12\n",
      "Processing epoch 13\n",
      "Processing epoch 14\n",
      "Processing epoch 15\n",
      "Processing epoch 16\n",
      "Processing epoch 17\n",
      "Processing epoch 18\n",
      "Processing epoch 19\n",
      "Processing epoch 20\n",
      "Processing epoch 21\n",
      "Processing epoch 22\n",
      "Processing epoch 23\n",
      "Processing epoch 24\n",
      "Processing epoch 0\n",
      "Processing epoch 1\n",
      "Processing epoch 2\n",
      "Processing epoch 3\n",
      "Processing epoch 4\n",
      "Processing epoch 5\n",
      "Processing epoch 6\n",
      "Processing epoch 7\n",
      "Processing epoch 8\n",
      "Processing epoch 9\n",
      "Processing epoch 10\n",
      "Processing epoch 11\n",
      "Processing epoch 12\n",
      "Processing epoch 13\n",
      "Processing epoch 14\n",
      "Processing epoch 15\n",
      "Processing epoch 16\n",
      "Processing epoch 17\n",
      "Processing epoch 18\n",
      "Processing epoch 19\n",
      "Processing epoch 20\n",
      "Processing epoch 21\n",
      "Processing epoch 22\n",
      "Processing epoch 23\n",
      "Processing epoch 24\n",
      "Processing epoch 0\n",
      "Processing epoch 1\n",
      "Processing epoch 2\n",
      "Processing epoch 3\n",
      "Processing epoch 4\n",
      "Processing epoch 5\n",
      "Processing epoch 6\n",
      "Processing epoch 7\n",
      "Processing epoch 8\n",
      "Processing epoch 9\n",
      "Processing epoch 10\n",
      "Processing epoch 11\n",
      "Processing epoch 12\n",
      "Processing epoch 13\n",
      "Processing epoch 14\n",
      "Processing epoch 15\n",
      "Processing epoch 16\n",
      "Processing epoch 17\n",
      "Processing epoch 18\n",
      "Processing epoch 19\n",
      "Processing epoch 20\n",
      "Processing epoch 21\n",
      "Processing epoch 22\n",
      "Processing epoch 23\n",
      "Processing epoch 24\n",
      "Evaluating RMSE, MAE of algorithm SVD on 5 split(s).\n",
      "\n",
      "                  Fold 1  Fold 2  Fold 3  Fold 4  Fold 5  Mean    Std     \n",
      "RMSE (testset)    0.8631  0.8630  0.8626  0.8604  0.8588  0.8616  0.0017  \n",
      "MAE (testset)     0.6599  0.6622  0.6624  0.6594  0.6581  0.6604  0.0017  \n",
      "Fit time          5.62    6.24    5.58    5.49    5.46    5.68    0.29    \n",
      "Test time         0.31    0.69    0.13    0.26    0.13    0.30    0.21    \n",
      ">> Training Done\n"
     ]
    }
   ],
   "source": [
    "cross_validate(algo,data,measures = ['RMSE','MAE'],cv=5 , verbose= True)\n",
    "print('>> Training Done')"
   ]
  },
  {
   "cell_type": "markdown",
   "metadata": {
    "colab_type": "text",
    "id": "zTnqbNt_xkKS"
   },
   "source": [
    "# Task 7: Predictions"
   ]
  },
  {
   "cell_type": "markdown",
   "metadata": {
    "colab_type": "text",
    "id": "ma3oQr1Ax_Hg"
   },
   "source": [
    "## 7.1 Predict ratings for all pairs (user, items) that are NOT in the training set."
   ]
  },
  {
   "cell_type": "code",
   "execution_count": 20,
   "metadata": {
    "colab": {},
    "colab_type": "code",
    "id": "_K3EmIs3wxhW"
   },
   "outputs": [],
   "source": [
    "predictions = algo.test(antiset)"
   ]
  },
  {
   "cell_type": "code",
   "execution_count": 23,
   "metadata": {
    "colab": {},
    "colab_type": "code",
    "id": "RkqiEwM9z4Jf"
   },
   "outputs": [
    {
     "data": {
      "text/plain": [
       "Prediction(uid=1, iid=1704, r_ui=3.529119856267723, est=4.484074643415174, details={'was_impossible': False})"
      ]
     },
     "execution_count": 23,
     "metadata": {},
     "output_type": "execute_result"
    }
   ],
   "source": [
    "predictions[1]"
   ]
  },
  {
   "cell_type": "markdown",
   "metadata": {
    "colab_type": "text",
    "id": "lRmzGn63ze8b"
   },
   "source": [
    "## 7.2 Recommending top 3 movies movies based on predictions"
   ]
  },
  {
   "cell_type": "code",
   "execution_count": 27,
   "metadata": {
    "colab": {},
    "colab_type": "code",
    "id": "q3Ugauv0119g"
   },
   "outputs": [
    {
     "name": "stdout",
     "output_type": "stream",
     "text": [
      "1 [318, 48516, 914]\n",
      "2 [1104, 1089, 6016]\n",
      "3 [898, 1673, 80906]\n",
      "4 [4306, 1270, 78499]\n",
      "5 [1235, 1228, 1104]\n",
      "6 [908, 1262, 1673]\n",
      "7 [1198, 2791, 1221]\n",
      "8 [2571, 930, 741]\n",
      "9 [1203, 318, 1223]\n",
      "10 [1258, 922, 1035]\n",
      "11 [1104, 2329, 57669]\n",
      "12 [527, 1089, 1197]\n",
      "13 [898, 2959, 2019]\n",
      "14 [1225, 177593, 1242]\n",
      "15 [1136, 953, 933]\n",
      "16 [898, 1104, 1673]\n",
      "17 [1204, 2324, 1262]\n",
      "18 [1387, 1248, 1104]\n",
      "19 [1261, 898, 177593]\n",
      "20 [1219, 1387, 1204]\n",
      "21 [116897, 290, 1204]\n",
      "22 [296, 3030, 898]\n",
      "23 [1276, 38061, 527]\n",
      "24 [750, 778, 260]\n",
      "25 [50, 1196, 318]\n",
      "26 [1221, 4226, 1089]\n",
      "27 [318, 150, 1228]\n",
      "28 [2067, 2019, 1225]\n",
      "29 [7361, 1235, 5618]\n",
      "30 [898, 3508, 177593]\n",
      "31 [858, 1262, 1221]\n",
      "32 [4226, 2858, 56782]\n",
      "33 [2019, 7361, 3037]\n",
      "34 [1178, 1223, 1197]\n",
      "35 [527, 953, 2324]\n",
      "36 [1235, 898, 2019]\n",
      "37 [50, 1104, 741]\n",
      "38 [1201, 913, 7361]\n",
      "39 [1242, 4011, 1945]\n",
      "40 [2571, 898, 260]\n",
      "41 [1215, 1104, 2700]\n",
      "42 [908, 1212, 2360]\n",
      "43 [50, 101, 223]\n",
      "44 [3451, 2324, 318]\n",
      "45 [1204, 2846, 4226]\n",
      "46 [2019, 56782, 589]\n",
      "47 [898, 1089, 1207]\n",
      "48 [2959, 47, 1204]\n",
      "49 [858, 1089, 1204]\n",
      "50 [1262, 2858, 4973]\n",
      "51 [457, 162, 904]\n",
      "52 [1197, 112552, 1203]\n",
      "53 [1, 6, 50]\n",
      "54 [5618, 1237, 7361]\n",
      "55 [318, 50, 1204]\n",
      "56 [750, 7153, 1197]\n",
      "57 [4226, 2959, 1945]\n",
      "58 [4878, 1212, 2019]\n",
      "59 [2700, 908, 930]\n",
      "60 [1208, 2959, 1104]\n",
      "61 [2959, 1276, 1221]\n",
      "62 [2324, 1247, 1228]\n",
      "63 [1204, 16, 6807]\n",
      "64 [741, 1104, 168252]\n",
      "65 [1235, 1104, 898]\n",
      "66 [1193, 750, 858]\n",
      "67 [912, 3683, 7371]\n",
      "68 [3035, 177593, 308]\n",
      "69 [1250, 2019, 2324]\n",
      "70 [1276, 898, 48516]\n",
      "71 [7361, 910, 1945]\n",
      "72 [1204, 1272, 898]\n",
      "73 [1104, 593, 1203]\n",
      "74 [1204, 1089, 750]\n",
      "75 [858, 750, 475]\n",
      "76 [1411, 1248, 50]\n",
      "77 [88125, 898, 858]\n",
      "78 [1221, 1223, 1261]\n",
      "79 [1235, 1213, 1204]\n",
      "80 [1104, 1235, 1228]\n",
      "81 [953, 1242, 1221]\n",
      "82 [1204, 1275, 6711]\n",
      "83 [1203, 80906, 953]\n",
      "84 [2324, 750, 1041]\n",
      "85 [1223, 908, 4144]\n",
      "86 [246, 908, 750]\n",
      "87 [318, 858, 260]\n",
      "88 [1222, 904, 858]\n",
      "89 [904, 1259, 3037]\n",
      "90 [318, 48780, 904]\n",
      "91 [3030, 1250, 49272]\n",
      "92 [2019, 318, 296]\n",
      "93 [47, 1198, 2571]\n",
      "94 [1193, 1228, 1235]\n",
      "95 [318, 912, 750]\n",
      "96 [750, 1223, 541]\n",
      "97 [898, 750, 1204]\n",
      "98 [1204, 318, 1212]\n",
      "99 [2571, 2858, 750]\n",
      "100 [1089, 3703, 750]\n",
      "101 [1221, 318, 7361]\n",
      "102 [3037, 99114, 904]\n",
      "103 [1204, 246, 1263]\n",
      "104 [4642, 177593, 1197]\n",
      "105 [930, 1204, 898]\n",
      "106 [1704, 898, 750]\n",
      "107 [1204, 3996, 750]\n",
      "108 [2329, 2019, 2959]\n",
      "109 [1104, 1221, 898]\n",
      "110 [318, 7361, 50]\n",
      "111 [923, 919, 2019]\n",
      "112 [923, 750, 2959]\n",
      "113 [2019, 5618, 2959]\n",
      "114 [4993, 1204, 1080]\n",
      "115 [527, 4993, 913]\n",
      "116 [1223, 7361, 2160]\n",
      "117 [1945, 1212, 7361]\n",
      "118 [2571, 4993, 318]\n",
      "119 [2959, 1198, 858]\n",
      "120 [318, 1221, 1673]\n",
      "121 [1204, 1233, 741]\n",
      "122 [527, 3703, 1272]\n",
      "123 [1204, 1235, 2019]\n",
      "124 [750, 1204, 62336]\n",
      "125 [2762, 1245, 898]\n",
      "126 [1262, 260, 1270]\n",
      "127 [318, 1221, 50]\n",
      "128 [1204, 2019, 778]\n",
      "129 [1283, 858, 1221]\n",
      "130 [2959, 898, 1233]\n",
      "131 [912, 930, 1208]\n",
      "132 [1204, 2019, 1201]\n",
      "133 [898, 7361, 1235]\n",
      "134 [1104, 318, 1228]\n",
      "135 [541, 750, 951]\n",
      "136 [318, 898, 2360]\n",
      "137 [1276, 2019, 1148]\n",
      "138 [48516, 527, 750]\n",
      "139 [1196, 1272, 50]\n",
      "140 [1949, 1673, 3703]\n",
      "141 [1945, 1223, 1089]\n",
      "142 [908, 1104, 1204]\n",
      "143 [2858, 3703, 910]\n",
      "144 [1204, 318, 1219]\n",
      "145 [898, 1136, 1197]\n",
      "146 [1204, 1228, 1303]\n",
      "147 [1204, 2019, 1198]\n",
      "148 [1212, 908, 1248]\n",
      "149 [296, 858, 1089]\n",
      "150 [1945, 750, 318]\n",
      "151 [71899, 1235, 1223]\n",
      "152 [1204, 2019, 3275]\n",
      "153 [1035, 293, 923]\n",
      "154 [260, 1196, 1210]\n",
      "155 [898, 2324, 1089]\n",
      "156 [2324, 40819, 1041]\n",
      "157 [6711, 1213, 1221]\n",
      "158 [858, 898, 1221]\n",
      "159 [908, 2186, 1203]\n",
      "160 [318, 1197, 69481]\n",
      "161 [1262, 109487, 750]\n",
      "162 [47, 260, 1089]\n",
      "163 [750, 101, 1104]\n",
      "164 [260, 750, 1208]\n",
      "165 [2959, 6711, 1262]\n",
      "166 [1204, 177593, 2019]\n",
      "167 [1221, 60069, 50]\n",
      "168 [4011, 2571, 4226]\n",
      "169 [1228, 71899, 1237]\n",
      "170 [2360, 1104, 1225]\n",
      "171 [50, 356, 527]\n",
      "172 [898, 2858, 750]\n",
      "173 [3037, 1222, 930]\n",
      "174 [56782, 923, 2571]\n",
      "175 [1204, 1223, 858]\n",
      "176 [750, 908, 1673]\n",
      "177 [1209, 1234, 778]\n",
      "178 [930, 750, 1235]\n",
      "179 [1945, 527, 260]\n",
      "180 [1104, 318, 1235]\n",
      "181 [318, 898, 1204]\n",
      "182 [1945, 2360, 955]\n",
      "183 [1262, 1272, 527]\n",
      "184 [2571, 750, 2959]\n",
      "185 [2959, 2324, 1204]\n",
      "186 [318, 1228, 1276]\n",
      "187 [858, 1104, 1387]\n",
      "188 [3897, 1235, 1262]\n",
      "189 [4973, 1104, 1221]\n",
      "190 [3683, 898, 34405]\n",
      "191 [4973, 1237, 5618]\n",
      "192 [1193, 1245, 1104]\n",
      "193 [1225, 750, 1235]\n",
      "194 [318, 50, 1204]\n",
      "195 [72226, 1221, 1175]\n",
      "196 [318, 296, 3037]\n",
      "197 [168252, 5690, 142488]\n",
      "198 [1080, 914, 457]\n",
      "199 [1235, 908, 162]\n",
      "200 [1204, 858, 1276]\n",
      "201 [1275, 115569, 898]\n",
      "202 [2160, 2067, 1228]\n",
      "203 [81847, 7361, 904]\n",
      "204 [4011, 6711, 750]\n",
      "205 [318, 6016, 2959]\n",
      "206 [318, 527, 908]\n",
      "207 [318, 750, 858]\n",
      "208 [1104, 933, 1225]\n",
      "209 [858, 750, 527]\n",
      "210 [1203, 48516, 177593]\n",
      "211 [750, 1208, 6711]\n",
      "212 [1228, 930, 1212]\n",
      "213 [2571, 1259, 527]\n",
      "214 [898, 904, 5618]\n",
      "215 [2019, 1204, 3451]\n",
      "216 [2324, 1207, 1248]\n",
      "217 [1212, 1197, 318]\n",
      "218 [318, 898, 260]\n",
      "219 [1208, 912, 1223]\n",
      "220 [4993, 1221, 1242]\n",
      "221 [44555, 3275, 1148]\n",
      "222 [260, 750, 1262]\n",
      "223 [293, 1245, 1089]\n",
      "224 [1954, 904, 7361]\n",
      "225 [1208, 3037, 1233]\n",
      "226 [1208, 27773, 1250]\n",
      "227 [1276, 1199, 2329]\n",
      "228 [527, 1235, 7361]\n",
      "229 [1221, 2019, 3275]\n",
      "230 [3275, 2571, 1225]\n",
      "231 [912, 1945, 318]\n",
      "232 [2324, 1704, 1089]\n",
      "233 [1210, 1276, 1204]\n",
      "234 [1204, 1201, 3996]\n",
      "235 [2571, 3037, 3147]\n",
      "236 [50, 2329, 2959]\n",
      "237 [1235, 2324, 2019]\n",
      "238 [1276, 1204, 1225]\n",
      "239 [1104, 1204, 1215]\n",
      "240 [750, 1228, 1250]\n",
      "241 [1704, 1210, 356]\n",
      "242 [50, 1198, 2959]\n",
      "243 [2959, 318, 7361]\n",
      "244 [858, 750, 4993]\n",
      "245 [318, 1228, 1089]\n",
      "246 [48516, 1204, 898]\n",
      "247 [475, 930, 913]\n",
      "248 [750, 318, 2324]\n",
      "249 [2019, 1204, 3435]\n",
      "250 [1207, 898, 908]\n",
      "251 [898, 930, 2324]\n",
      "252 [260, 318, 1196]\n",
      "253 [318, 527, 7361]\n",
      "254 [1104, 1221, 2324]\n",
      "255 [858, 2289, 6016]\n",
      "256 [2324, 1213, 2959]\n",
      "257 [318, 1945, 933]\n",
      "258 [1204, 32, 55721]\n",
      "259 [1104, 2959, 593]\n",
      "260 [898, 1136, 1242]\n",
      "261 [750, 4973, 1197]\n",
      "262 [2858, 1673, 1178]\n",
      "263 [750, 3683, 2959]\n",
      "264 [1248, 3083, 1387]\n",
      "265 [109487, 3030, 1247]\n",
      "266 [858, 1221, 1228]\n",
      "267 [1221, 56782, 318]\n",
      "268 [177593, 3996, 1248]\n",
      "269 [858, 1262, 1288]\n",
      "270 [527, 750, 1945]\n",
      "271 [318, 750, 4973]\n",
      "272 [1104, 912, 933]\n",
      "273 [1204, 2019, 2959]\n",
      "274 [898, 1207, 3435]\n",
      "275 [1262, 2762, 142488]\n",
      "276 [50, 296, 457]\n",
      "277 [750, 912, 741]\n",
      "278 [858, 260, 898]\n",
      "279 [47, 5618, 1221]\n",
      "280 [1228, 3083, 1272]\n",
      "281 [318, 48516, 3435]\n",
      "282 [1204, 1225, 902]\n",
      "283 [2571, 750, 58559]\n",
      "284 [2571, 898, 109487]\n",
      "285 [898, 1089, 1197]\n",
      "286 [58559, 741, 1262]\n",
      "287 [27773, 48516, 318]\n",
      "288 [858, 1945, 1221]\n",
      "289 [1104, 3435, 2571]\n",
      "290 [3508, 1178, 3030]\n",
      "291 [1270, 1262, 356]\n",
      "292 [150, 3504, 1611]\n",
      "293 [1225, 2959, 1204]\n",
      "294 [986, 2028, 5952]\n",
      "295 [2571, 1204, 1206]\n",
      "296 [898, 7361, 1208]\n",
      "297 [1204, 4973, 858]\n",
      "298 [2288, 8874, 1250]\n",
      "299 [318, 2959, 177593]\n",
      "300 [1104, 1235, 2019]\n",
      "301 [1199, 4878, 1104]\n",
      "302 [318, 1210, 527]\n",
      "303 [177593, 318, 1207]\n",
      "304 [78499, 1179, 3429]\n",
      "305 [1204, 1104, 1673]\n",
      "306 [1228, 318, 4226]\n",
      "307 [1262, 1225, 1200]\n",
      "308 [6942, 910, 142488]\n",
      "309 [78499, 1237, 44555]\n",
      "310 [1136, 912, 78499]\n",
      "311 [1104, 930, 1225]\n",
      "312 [858, 593, 1148]\n",
      "313 [2324, 2019, 1079]\n",
      "314 [1212, 1228, 1221]\n",
      "315 [1223, 4973, 2329]\n",
      "316 [318, 260, 1104]\n",
      "317 [527, 1204, 2019]\n",
      "318 [1235, 930, 3037]\n",
      "319 [1213, 969, 1198]\n",
      "320 [2571, 1207, 32]\n",
      "321 [527, 1245, 1237]\n",
      "322 [933, 741, 904]\n",
      "323 [898, 1208, 1089]\n",
      "324 [1089, 318, 930]\n",
      "325 [1221, 1136, 527]\n",
      "326 [1258, 1228, 3681]\n",
      "327 [1212, 296, 1237]\n",
      "328 [2502, 1223, 5669]\n",
      "329 [81834, 142488, 54001]\n",
      "330 [4973, 527, 8949]\n",
      "331 [1208, 2571, 2324]\n",
      "332 [1104, 1221, 3910]\n",
      "333 [7153, 1204, 969]\n",
      "334 [898, 3451, 475]\n",
      "335 [1204, 898, 260]\n",
      "336 [1204, 3037, 1212]\n",
      "337 [1089, 1213, 48516]\n",
      "338 [260, 1228, 2571]\n",
      "339 [1104, 955, 3435]\n",
      "340 [1270, 1262, 1203]\n",
      "341 [1228, 1104, 318]\n",
      "342 [318, 2571, 527]\n",
      "343 [4973, 1204, 1212]\n",
      "344 [1204, 122926, 6350]\n",
      "345 [318, 1204, 1207]\n",
      "346 [1104, 1262, 1228]\n",
      "347 [318, 1221, 858]\n",
      "348 [1197, 3949, 904]\n",
      "349 [318, 7361, 1203]\n",
      "350 [318, 1204, 58559]\n",
      "351 [56782, 6711, 1104]\n",
      "352 [5902, 3897, 1208]\n",
      "353 [2324, 4226, 930]\n",
      "354 [2019, 1104, 3681]\n",
      "355 [2019, 318, 930]\n",
      "356 [1276, 1245, 1225]\n",
      "357 [912, 109487, 4973]\n",
      "358 [318, 260, 1196]\n",
      "359 [318, 1221, 2019]\n",
      "360 [318, 1945, 1204]\n",
      "361 [168252, 1228, 6016]\n",
      "362 [1276, 1204, 1228]\n",
      "363 [1228, 541, 527]\n",
      "364 [177593, 3681, 2019]\n",
      "365 [904, 232, 914]\n",
      "366 [1197, 3429, 4011]\n",
      "367 [2571, 1210, 1280]\n",
      "368 [750, 318, 1945]\n",
      "369 [593, 1248, 930]\n",
      "370 [2019, 898, 3275]\n",
      "371 [1136, 1198, 1222]\n",
      "372 [8874, 2959, 5952]\n",
      "373 [750, 924, 2858]\n",
      "374 [2019, 2959, 1204]\n",
      "375 [858, 898, 750]\n",
      "376 [1089, 2019, 1247]\n",
      "377 [1237, 898, 1136]\n",
      "378 [750, 1673, 1148]\n",
      "379 [6016, 1089, 2202]\n",
      "380 [2858, 1247, 1283]\n",
      "381 [527, 92259, 741]\n",
      "382 [1221, 1197, 2858]\n",
      "383 [2019, 1201, 1104]\n",
      "384 [910, 47, 933]\n",
      "385 [110, 898, 2571]\n",
      "386 [5618, 55820, 1197]\n",
      "387 [955, 3435, 527]\n",
      "388 [2959, 2324, 4995]\n",
      "389 [1198, 318, 898]\n",
      "390 [1148, 4011, 1945]\n",
      "391 [1262, 1272, 2300]\n",
      "392 [58559, 318, 750]\n",
      "393 [33493, 51540, 1284]\n",
      "394 [1221, 1952, 1233]\n",
      "395 [898, 1235, 1261]\n",
      "396 [750, 527, 1225]\n",
      "397 [593, 318, 7361]\n",
      "398 [296, 1242, 1221]\n",
      "399 [898, 1261, 1203]\n",
      "400 [2324, 4973, 4011]\n",
      "401 [318, 1204, 50]\n",
      "402 [1235, 1387, 177593]\n",
      "403 [356, 1204, 1225]\n",
      "404 [112552, 1104, 951]\n",
      "405 [898, 1235, 177593]\n",
      "406 [778, 2959, 2571]\n",
      "407 [1204, 1235, 6711]\n",
      "408 [6711, 293, 1204]\n",
      "409 [1208, 1212, 2360]\n",
      "410 [80906, 933, 1617]\n",
      "411 [1704, 1245, 1228]\n",
      "412 [1204, 4993, 50]\n",
      "413 [48516, 88163, 2138]\n",
      "414 [3307, 3030, 7099]\n",
      "415 [1204, 1228, 1104]\n",
      "416 [1208, 1258, 1104]\n",
      "417 [2019, 1104, 1923]\n",
      "418 [924, 2542, 750]\n",
      "419 [2300, 1198, 1215]\n",
      "420 [898, 1283, 2019]\n",
      "421 [296, 3451, 750]\n",
      "422 [1221, 527, 898]\n",
      "423 [953, 260, 4973]\n",
      "424 [908, 898, 1245]\n",
      "425 [6711, 1237, 1248]\n",
      "426 [6016, 1212, 2572]\n",
      "427 [1228, 2324, 1945]\n",
      "428 [1225, 4226, 3949]\n",
      "429 [260, 2571, 318]\n",
      "430 [930, 2019, 2324]\n",
      "431 [260, 2571, 3030]\n",
      "432 [1104, 1225, 2160]\n",
      "433 [1261, 898, 4973]\n",
      "434 [1221, 1199, 4973]\n",
      "435 [1204, 1235, 750]\n",
      "436 [1235, 898, 1262]\n",
      "437 [750, 1221, 1198]\n",
      "438 [1242, 741, 3703]\n",
      "439 [750, 296, 175]\n",
      "440 [1198, 6711, 1673]\n",
      "441 [1213, 1207, 1261]\n",
      "442 [2019, 930, 2329]\n",
      "443 [898, 1204, 1198]\n",
      "444 [1208, 1104, 1204]\n",
      "445 [1204, 912, 4226]\n",
      "446 [2019, 951, 1945]\n",
      "447 [1089, 1198, 3703]\n",
      "448 [318, 1204, 908]\n",
      "449 [7361, 750, 1104]\n",
      "450 [318, 898, 1204]\n",
      "451 [1245, 953, 318]\n",
      "452 [593, 1213, 2329]\n",
      "453 [50872, 1449, 1270]\n",
      "454 [898, 356, 914]\n",
      "455 [924, 1945, 951]\n",
      "456 [1198, 1221, 898]\n",
      "457 [318, 527, 307]\n",
      "458 [6016, 2289, 898]\n",
      "459 [858, 50, 1262]\n",
      "460 [4973, 50, 260]\n",
      "461 [898, 750, 5618]\n",
      "462 [1104, 2329, 1223]\n",
      "463 [750, 48516, 1203]\n",
      "464 [1198, 1245, 1276]\n",
      "465 [296, 858, 318]\n",
      "466 [1228, 48780, 5618]\n",
      "467 [1262, 1207, 1028]\n",
      "468 [1204, 2019, 1247]\n",
      "469 [2959, 1148, 3435]\n",
      "470 [260, 3730, 922]\n",
      "471 [318, 1148, 1945]\n",
      "472 [356, 1213, 177593]\n",
      "473 [1204, 912, 1235]\n",
      "474 [78499, 4011, 68954]\n",
      "475 [50, 296, 1089]\n",
      "476 [1262, 1247, 1203]\n",
      "477 [2959, 5995, 858]\n",
      "478 [4993, 1215, 48516]\n",
      "479 [296, 3681, 1213]\n",
      "480 [750, 5618, 1276]\n",
      "481 [750, 2019, 4973]\n",
      "482 [2571, 1197, 3275]\n",
      "483 [541, 111, 1208]\n",
      "484 [3030, 106642, 3494]\n",
      "485 [1221, 318, 2329]\n",
      "486 [1208, 2959, 58559]\n",
      "487 [1237, 1193, 1228]\n",
      "488 [296, 2858, 50]\n",
      "489 [527, 1262, 318]\n",
      "490 [858, 50, 3030]\n",
      "491 [318, 1213, 898]\n",
      "492 [318, 7153, 1084]\n",
      "493 [1945, 318, 898]\n",
      "494 [318, 58559, 750]\n",
      "495 [2019, 541, 1223]\n",
      "496 [1104, 4011, 1228]\n",
      "497 [1197, 1248, 296]\n",
      "498 [1228, 1221, 4144]\n",
      "499 [58559, 318, 899]\n",
      "500 [1250, 1198, 1208]\n",
      "501 [2959, 1204, 318]\n",
      "502 [750, 7438, 858]\n",
      "503 [109487, 750, 1225]\n",
      "504 [260, 318, 1262]\n",
      "505 [318, 2019, 2160]\n",
      "506 [50, 4144, 1214]\n",
      "507 [318, 898, 1089]\n",
      "508 [1207, 7361, 904]\n",
      "509 [1204, 318, 898]\n",
      "510 [2959, 318, 778]\n",
      "511 [1204, 858, 750]\n",
      "512 [4973, 898, 1196]\n",
      "513 [1945, 2019, 898]\n",
      "514 [318, 1221, 912]\n",
      "515 [923, 2571, 1704]\n",
      "516 [1221, 858, 318]\n",
      "517 [67997, 3897, 6620]\n",
      "518 [1247, 318, 7361]\n",
      "519 [2019, 898, 527]\n",
      "520 [1203, 919, 110]\n",
      "521 [1104, 858, 750]\n",
      "522 [52328, 1884, 2762]\n",
      "523 [50, 1089, 1219]\n",
      "524 [2571, 1262, 1203]\n",
      "525 [1089, 4993, 1945]\n",
      "526 [1089, 1233, 1235]\n",
      "527 [1197, 4226, 7361]\n",
      "528 [3275, 318, 933]\n",
      "529 [318, 898, 1196]\n",
      "530 [318, 589, 58559]\n",
      "531 [2571, 1203, 6711]\n",
      "532 [1221, 898, 1089]\n",
      "533 [2324, 898, 1204]\n",
      "534 [908, 293, 1089]\n",
      "535 [56782, 1228, 912]\n",
      "536 [5618, 1242, 8874]\n",
      "537 [1204, 356, 48780]\n",
      "538 [110, 260, 2571]\n",
      "539 [898, 48516, 930]\n",
      "540 [750, 1204, 1198]\n",
      "541 [4973, 1217, 1272]\n",
      "542 [1198, 1270, 1234]\n",
      "543 [50, 110, 608]\n",
      "544 [318, 58559, 898]\n",
      "545 [318, 7361, 1262]\n",
      "546 [1208, 177593, 1225]\n",
      "547 [1204, 608, 1193]\n",
      "548 [2324, 2019, 1204]\n",
      "549 [904, 177593, 1235]\n",
      "550 [898, 177593, 50]\n",
      "551 [930, 953, 56782]\n",
      "552 [4226, 4993, 6874]\n",
      "553 [318, 1204, 3910]\n",
      "554 [1387, 7153, 750]\n",
      "555 [4878, 1228, 7361]\n",
      "556 [296, 4973, 1204]\n",
      "557 [541, 1089, 4144]\n",
      "558 [1104, 1221, 5995]\n",
      "559 [750, 2571, 858]\n",
      "560 [3275, 1204, 2019]\n",
      "561 [4973, 720, 4642]\n",
      "562 [898, 1247, 750]\n",
      "563 [1221, 2019, 858]\n",
      "564 [296, 1204, 1228]\n",
      "565 [778, 904, 1208]\n",
      "566 [1204, 48516, 27773]\n",
      "567 [1104, 1245, 2762]\n",
      "568 [318, 7361, 1237]\n",
      "569 [1200, 5618, 48516]\n",
      "570 [1222, 2329, 1089]\n",
      "571 [318, 919, 924]\n",
      "572 [1203, 1222, 4226]\n",
      "573 [1704, 750, 7361]\n",
      "574 [2019, 1237, 1204]\n",
      "575 [750, 318, 1204]\n",
      "576 [2959, 1197, 296]\n",
      "577 [3213, 5618, 6350]\n",
      "578 [356, 1197, 1258]\n",
      "579 [1247, 4993, 296]\n",
      "580 [60069, 148626, 2019]\n",
      "581 [1252, 1104, 177593]\n",
      "582 [898, 1283, 750]\n",
      "583 [1204, 2019, 1673]\n",
      "584 [260, 954, 1089]\n",
      "585 [1136, 1223, 72226]\n",
      "586 [930, 1203, 1225]\n",
      "587 [2329, 1266, 1104]\n",
      "588 [68954, 1221, 858]\n",
      "589 [2324, 1204, 1208]\n",
      "590 [4973, 720, 112552]\n",
      "591 [1247, 4993, 1196]\n",
      "592 [2571, 2019, 1201]\n",
      "593 [924, 908, 1136]\n",
      "594 [1213, 2329, 417]\n",
      "595 [260, 1089, 1198]\n",
      "596 [1104, 778, 1673]\n",
      "597 [912, 1203, 150]\n",
      "598 [1204, 5952, 898]\n",
      "599 [1276, 1250, 2324]\n",
      "600 [60069, 1148, 1225]\n",
      "601 [741, 750, 1945]\n",
      "602 [27773, 4973, 177593]\n",
      "603 [168252, 3000, 5618]\n",
      "604 [1204, 318, 4993]\n",
      "605 [1250, 6711, 930]\n",
      "606 [1104, 922, 57669]\n",
      "607 [1262, 1089, 2329]\n",
      "608 [30749, 2019, 55820]\n",
      "609 [898, 2324, 1233]\n",
      "610 [1250, 2329, 3435]\n"
     ]
    }
   ],
   "source": [
    "from collections import defaultdict\n",
    "def get_top_n(prediction, n):\n",
    "    top_n = defaultdict(list)\n",
    "    for uid, iid, _,est,_ in predictions:\n",
    "        top_n[uid].append((iid,est))\n",
    "    for uid,user_ratings in top_n.items():\n",
    "        user_ratings.sort(key = lambda x : x[1],reverse=True)\n",
    "        top_n[uid] = user_ratings[:n]\n",
    "    return top_n    \n",
    "    pass\n",
    "top_n = get_top_n(predictions, n=3)\n",
    "for uid,user_ratings in top_n.items():\n",
    "    print(uid,[iid for (iid,rating) in user_ratings])"
   ]
  },
  {
   "cell_type": "code",
   "execution_count": 28,
   "metadata": {},
   "outputs": [
    {
     "name": "stdout",
     "output_type": "stream",
     "text": [
      "Movies_Recommendation_Engine_Coursera_[Starter].ipynb  ratings.csv  source\n"
     ]
    }
   ],
   "source": [
    "!dir"
   ]
  },
  {
   "cell_type": "code",
   "execution_count": null,
   "metadata": {},
   "outputs": [],
   "source": []
  }
 ],
 "metadata": {
  "colab": {
   "collapsed_sections": [],
   "name": "Movies Recommendation Engine - Coursera [Starter]",
   "provenance": [],
   "toc_visible": true
  },
  "kernelspec": {
   "display_name": "Python 3",
   "language": "python",
   "name": "python3"
  },
  "language_info": {
   "codemirror_mode": {
    "name": "ipython",
    "version": 3
   },
   "file_extension": ".py",
   "mimetype": "text/x-python",
   "name": "python",
   "nbconvert_exporter": "python",
   "pygments_lexer": "ipython3",
   "version": "3.8.3"
  }
 },
 "nbformat": 4,
 "nbformat_minor": 4
}
